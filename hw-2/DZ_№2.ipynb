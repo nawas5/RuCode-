{
  "nbformat": 4,
  "nbformat_minor": 0,
  "metadata": {
    "colab": {
      "name": "DZ №2 ",
      "provenance": [],
      "collapsed_sections": []
    },
    "kernelspec": {
      "name": "python3",
      "display_name": "Python 3"
    },
    "accelerator": "GPU",
    "widgets": {
      "application/vnd.jupyter.widget-state+json": {
        "b5c11333e1ce454cb1c211a9a1b3b870": {
          "model_module": "@jupyter-widgets/controls",
          "model_name": "HBoxModel",
          "state": {
            "_view_name": "HBoxView",
            "_dom_classes": [],
            "_model_name": "HBoxModel",
            "_view_module": "@jupyter-widgets/controls",
            "_model_module_version": "1.5.0",
            "_view_count": null,
            "_view_module_version": "1.5.0",
            "box_style": "",
            "layout": "IPY_MODEL_8e77f86245a548088799be5f44aa2fd2",
            "_model_module": "@jupyter-widgets/controls",
            "children": [
              "IPY_MODEL_98a391d4eb924758a977867298ce8bfc",
              "IPY_MODEL_955d998f6d5b4f9384d56115866a6d1c"
            ]
          }
        },
        "8e77f86245a548088799be5f44aa2fd2": {
          "model_module": "@jupyter-widgets/base",
          "model_name": "LayoutModel",
          "state": {
            "_view_name": "LayoutView",
            "grid_template_rows": null,
            "right": null,
            "justify_content": null,
            "_view_module": "@jupyter-widgets/base",
            "overflow": null,
            "_model_module_version": "1.2.0",
            "_view_count": null,
            "flex_flow": null,
            "width": null,
            "min_width": null,
            "border": null,
            "align_items": null,
            "bottom": null,
            "_model_module": "@jupyter-widgets/base",
            "top": null,
            "grid_column": null,
            "overflow_y": null,
            "overflow_x": null,
            "grid_auto_flow": null,
            "grid_area": null,
            "grid_template_columns": null,
            "flex": null,
            "_model_name": "LayoutModel",
            "justify_items": null,
            "grid_row": null,
            "max_height": null,
            "align_content": null,
            "visibility": null,
            "align_self": null,
            "height": null,
            "min_height": null,
            "padding": null,
            "grid_auto_rows": null,
            "grid_gap": null,
            "max_width": null,
            "order": null,
            "_view_module_version": "1.2.0",
            "grid_template_areas": null,
            "object_position": null,
            "object_fit": null,
            "grid_auto_columns": null,
            "margin": null,
            "display": null,
            "left": null
          }
        },
        "98a391d4eb924758a977867298ce8bfc": {
          "model_module": "@jupyter-widgets/controls",
          "model_name": "FloatProgressModel",
          "state": {
            "_view_name": "ProgressView",
            "style": "IPY_MODEL_697a403ec5d44e78a21d5c268d1d6a88",
            "_dom_classes": [],
            "description": "100%",
            "_model_name": "FloatProgressModel",
            "bar_style": "success",
            "max": 3,
            "_view_module": "@jupyter-widgets/controls",
            "_model_module_version": "1.5.0",
            "value": 3,
            "_view_count": null,
            "_view_module_version": "1.5.0",
            "orientation": "horizontal",
            "min": 0,
            "description_tooltip": null,
            "_model_module": "@jupyter-widgets/controls",
            "layout": "IPY_MODEL_2194b07e4bd04a2e8b64bf8c096cce6a"
          }
        },
        "955d998f6d5b4f9384d56115866a6d1c": {
          "model_module": "@jupyter-widgets/controls",
          "model_name": "HTMLModel",
          "state": {
            "_view_name": "HTMLView",
            "style": "IPY_MODEL_b7e61e877051400c80d68877d7426fe7",
            "_dom_classes": [],
            "description": "",
            "_model_name": "HTMLModel",
            "placeholder": "​",
            "_view_module": "@jupyter-widgets/controls",
            "_model_module_version": "1.5.0",
            "value": " 3/3 [17:20&lt;00:00, 346.73s/it]",
            "_view_count": null,
            "_view_module_version": "1.5.0",
            "description_tooltip": null,
            "_model_module": "@jupyter-widgets/controls",
            "layout": "IPY_MODEL_e4064f4496384047b9ff73be7515fb90"
          }
        },
        "697a403ec5d44e78a21d5c268d1d6a88": {
          "model_module": "@jupyter-widgets/controls",
          "model_name": "ProgressStyleModel",
          "state": {
            "_view_name": "StyleView",
            "_model_name": "ProgressStyleModel",
            "description_width": "initial",
            "_view_module": "@jupyter-widgets/base",
            "_model_module_version": "1.5.0",
            "_view_count": null,
            "_view_module_version": "1.2.0",
            "bar_color": null,
            "_model_module": "@jupyter-widgets/controls"
          }
        },
        "2194b07e4bd04a2e8b64bf8c096cce6a": {
          "model_module": "@jupyter-widgets/base",
          "model_name": "LayoutModel",
          "state": {
            "_view_name": "LayoutView",
            "grid_template_rows": null,
            "right": null,
            "justify_content": null,
            "_view_module": "@jupyter-widgets/base",
            "overflow": null,
            "_model_module_version": "1.2.0",
            "_view_count": null,
            "flex_flow": null,
            "width": null,
            "min_width": null,
            "border": null,
            "align_items": null,
            "bottom": null,
            "_model_module": "@jupyter-widgets/base",
            "top": null,
            "grid_column": null,
            "overflow_y": null,
            "overflow_x": null,
            "grid_auto_flow": null,
            "grid_area": null,
            "grid_template_columns": null,
            "flex": null,
            "_model_name": "LayoutModel",
            "justify_items": null,
            "grid_row": null,
            "max_height": null,
            "align_content": null,
            "visibility": null,
            "align_self": null,
            "height": null,
            "min_height": null,
            "padding": null,
            "grid_auto_rows": null,
            "grid_gap": null,
            "max_width": null,
            "order": null,
            "_view_module_version": "1.2.0",
            "grid_template_areas": null,
            "object_position": null,
            "object_fit": null,
            "grid_auto_columns": null,
            "margin": null,
            "display": null,
            "left": null
          }
        },
        "b7e61e877051400c80d68877d7426fe7": {
          "model_module": "@jupyter-widgets/controls",
          "model_name": "DescriptionStyleModel",
          "state": {
            "_view_name": "StyleView",
            "_model_name": "DescriptionStyleModel",
            "description_width": "",
            "_view_module": "@jupyter-widgets/base",
            "_model_module_version": "1.5.0",
            "_view_count": null,
            "_view_module_version": "1.2.0",
            "_model_module": "@jupyter-widgets/controls"
          }
        },
        "e4064f4496384047b9ff73be7515fb90": {
          "model_module": "@jupyter-widgets/base",
          "model_name": "LayoutModel",
          "state": {
            "_view_name": "LayoutView",
            "grid_template_rows": null,
            "right": null,
            "justify_content": null,
            "_view_module": "@jupyter-widgets/base",
            "overflow": null,
            "_model_module_version": "1.2.0",
            "_view_count": null,
            "flex_flow": null,
            "width": null,
            "min_width": null,
            "border": null,
            "align_items": null,
            "bottom": null,
            "_model_module": "@jupyter-widgets/base",
            "top": null,
            "grid_column": null,
            "overflow_y": null,
            "overflow_x": null,
            "grid_auto_flow": null,
            "grid_area": null,
            "grid_template_columns": null,
            "flex": null,
            "_model_name": "LayoutModel",
            "justify_items": null,
            "grid_row": null,
            "max_height": null,
            "align_content": null,
            "visibility": null,
            "align_self": null,
            "height": null,
            "min_height": null,
            "padding": null,
            "grid_auto_rows": null,
            "grid_gap": null,
            "max_width": null,
            "order": null,
            "_view_module_version": "1.2.0",
            "grid_template_areas": null,
            "object_position": null,
            "object_fit": null,
            "grid_auto_columns": null,
            "margin": null,
            "display": null,
            "left": null
          }
        },
        "d256f94871174eff8b68b4b318d68a2f": {
          "model_module": "@jupyter-widgets/controls",
          "model_name": "HBoxModel",
          "state": {
            "_view_name": "HBoxView",
            "_dom_classes": [],
            "_model_name": "HBoxModel",
            "_view_module": "@jupyter-widgets/controls",
            "_model_module_version": "1.5.0",
            "_view_count": null,
            "_view_module_version": "1.5.0",
            "box_style": "",
            "layout": "IPY_MODEL_c66c8d1bbf194f5385b5f5d6b2e6e516",
            "_model_module": "@jupyter-widgets/controls",
            "children": [
              "IPY_MODEL_01fcd8c85b144a0fb0b75378523c6eb8",
              "IPY_MODEL_d1a127a98f4f4c169b91f7f8f23f6c66"
            ]
          }
        },
        "c66c8d1bbf194f5385b5f5d6b2e6e516": {
          "model_module": "@jupyter-widgets/base",
          "model_name": "LayoutModel",
          "state": {
            "_view_name": "LayoutView",
            "grid_template_rows": null,
            "right": null,
            "justify_content": null,
            "_view_module": "@jupyter-widgets/base",
            "overflow": null,
            "_model_module_version": "1.2.0",
            "_view_count": null,
            "flex_flow": null,
            "width": null,
            "min_width": null,
            "border": null,
            "align_items": null,
            "bottom": null,
            "_model_module": "@jupyter-widgets/base",
            "top": null,
            "grid_column": null,
            "overflow_y": null,
            "overflow_x": null,
            "grid_auto_flow": null,
            "grid_area": null,
            "grid_template_columns": null,
            "flex": null,
            "_model_name": "LayoutModel",
            "justify_items": null,
            "grid_row": null,
            "max_height": null,
            "align_content": null,
            "visibility": null,
            "align_self": null,
            "height": null,
            "min_height": null,
            "padding": null,
            "grid_auto_rows": null,
            "grid_gap": null,
            "max_width": null,
            "order": null,
            "_view_module_version": "1.2.0",
            "grid_template_areas": null,
            "object_position": null,
            "object_fit": null,
            "grid_auto_columns": null,
            "margin": null,
            "display": null,
            "left": null
          }
        },
        "01fcd8c85b144a0fb0b75378523c6eb8": {
          "model_module": "@jupyter-widgets/controls",
          "model_name": "FloatProgressModel",
          "state": {
            "_view_name": "ProgressView",
            "style": "IPY_MODEL_9bde32aa54e9422f98e63bf173936438",
            "_dom_classes": [],
            "description": "100%",
            "_model_name": "FloatProgressModel",
            "bar_style": "success",
            "max": 439,
            "_view_module": "@jupyter-widgets/controls",
            "_model_module_version": "1.5.0",
            "value": 439,
            "_view_count": null,
            "_view_module_version": "1.5.0",
            "orientation": "horizontal",
            "min": 0,
            "description_tooltip": null,
            "_model_module": "@jupyter-widgets/controls",
            "layout": "IPY_MODEL_e055ede6467d4908b14b8f453e94ed7c"
          }
        },
        "d1a127a98f4f4c169b91f7f8f23f6c66": {
          "model_module": "@jupyter-widgets/controls",
          "model_name": "HTMLModel",
          "state": {
            "_view_name": "HTMLView",
            "style": "IPY_MODEL_d0f35cfeee1c493d8cc6848c5477b468",
            "_dom_classes": [],
            "description": "",
            "_model_name": "HTMLModel",
            "placeholder": "​",
            "_view_module": "@jupyter-widgets/controls",
            "_model_module_version": "1.5.0",
            "value": " 439/439 [17:20&lt;00:00,  2.37s/it]",
            "_view_count": null,
            "_view_module_version": "1.5.0",
            "description_tooltip": null,
            "_model_module": "@jupyter-widgets/controls",
            "layout": "IPY_MODEL_85ffd8fd9dc749699f8f60c68760473b"
          }
        },
        "9bde32aa54e9422f98e63bf173936438": {
          "model_module": "@jupyter-widgets/controls",
          "model_name": "ProgressStyleModel",
          "state": {
            "_view_name": "StyleView",
            "_model_name": "ProgressStyleModel",
            "description_width": "initial",
            "_view_module": "@jupyter-widgets/base",
            "_model_module_version": "1.5.0",
            "_view_count": null,
            "_view_module_version": "1.2.0",
            "bar_color": null,
            "_model_module": "@jupyter-widgets/controls"
          }
        },
        "e055ede6467d4908b14b8f453e94ed7c": {
          "model_module": "@jupyter-widgets/base",
          "model_name": "LayoutModel",
          "state": {
            "_view_name": "LayoutView",
            "grid_template_rows": null,
            "right": null,
            "justify_content": null,
            "_view_module": "@jupyter-widgets/base",
            "overflow": null,
            "_model_module_version": "1.2.0",
            "_view_count": null,
            "flex_flow": null,
            "width": null,
            "min_width": null,
            "border": null,
            "align_items": null,
            "bottom": null,
            "_model_module": "@jupyter-widgets/base",
            "top": null,
            "grid_column": null,
            "overflow_y": null,
            "overflow_x": null,
            "grid_auto_flow": null,
            "grid_area": null,
            "grid_template_columns": null,
            "flex": null,
            "_model_name": "LayoutModel",
            "justify_items": null,
            "grid_row": null,
            "max_height": null,
            "align_content": null,
            "visibility": null,
            "align_self": null,
            "height": null,
            "min_height": null,
            "padding": null,
            "grid_auto_rows": null,
            "grid_gap": null,
            "max_width": null,
            "order": null,
            "_view_module_version": "1.2.0",
            "grid_template_areas": null,
            "object_position": null,
            "object_fit": null,
            "grid_auto_columns": null,
            "margin": null,
            "display": null,
            "left": null
          }
        },
        "d0f35cfeee1c493d8cc6848c5477b468": {
          "model_module": "@jupyter-widgets/controls",
          "model_name": "DescriptionStyleModel",
          "state": {
            "_view_name": "StyleView",
            "_model_name": "DescriptionStyleModel",
            "description_width": "",
            "_view_module": "@jupyter-widgets/base",
            "_model_module_version": "1.5.0",
            "_view_count": null,
            "_view_module_version": "1.2.0",
            "_model_module": "@jupyter-widgets/controls"
          }
        },
        "85ffd8fd9dc749699f8f60c68760473b": {
          "model_module": "@jupyter-widgets/base",
          "model_name": "LayoutModel",
          "state": {
            "_view_name": "LayoutView",
            "grid_template_rows": null,
            "right": null,
            "justify_content": null,
            "_view_module": "@jupyter-widgets/base",
            "overflow": null,
            "_model_module_version": "1.2.0",
            "_view_count": null,
            "flex_flow": null,
            "width": null,
            "min_width": null,
            "border": null,
            "align_items": null,
            "bottom": null,
            "_model_module": "@jupyter-widgets/base",
            "top": null,
            "grid_column": null,
            "overflow_y": null,
            "overflow_x": null,
            "grid_auto_flow": null,
            "grid_area": null,
            "grid_template_columns": null,
            "flex": null,
            "_model_name": "LayoutModel",
            "justify_items": null,
            "grid_row": null,
            "max_height": null,
            "align_content": null,
            "visibility": null,
            "align_self": null,
            "height": null,
            "min_height": null,
            "padding": null,
            "grid_auto_rows": null,
            "grid_gap": null,
            "max_width": null,
            "order": null,
            "_view_module_version": "1.2.0",
            "grid_template_areas": null,
            "object_position": null,
            "object_fit": null,
            "grid_auto_columns": null,
            "margin": null,
            "display": null,
            "left": null
          }
        },
        "26c61050d2dd4033a8abbe2f38b3e449": {
          "model_module": "@jupyter-widgets/controls",
          "model_name": "HBoxModel",
          "state": {
            "_view_name": "HBoxView",
            "_dom_classes": [],
            "_model_name": "HBoxModel",
            "_view_module": "@jupyter-widgets/controls",
            "_model_module_version": "1.5.0",
            "_view_count": null,
            "_view_module_version": "1.5.0",
            "box_style": "",
            "layout": "IPY_MODEL_3f3732ed374d4a15b6243051e2455ac2",
            "_model_module": "@jupyter-widgets/controls",
            "children": [
              "IPY_MODEL_cb6b49a8a250417990f96780c288bac9",
              "IPY_MODEL_884dc52048c1437eb9a63fce7f28c2c4"
            ]
          }
        },
        "3f3732ed374d4a15b6243051e2455ac2": {
          "model_module": "@jupyter-widgets/base",
          "model_name": "LayoutModel",
          "state": {
            "_view_name": "LayoutView",
            "grid_template_rows": null,
            "right": null,
            "justify_content": null,
            "_view_module": "@jupyter-widgets/base",
            "overflow": null,
            "_model_module_version": "1.2.0",
            "_view_count": null,
            "flex_flow": null,
            "width": null,
            "min_width": null,
            "border": null,
            "align_items": null,
            "bottom": null,
            "_model_module": "@jupyter-widgets/base",
            "top": null,
            "grid_column": null,
            "overflow_y": null,
            "overflow_x": null,
            "grid_auto_flow": null,
            "grid_area": null,
            "grid_template_columns": null,
            "flex": null,
            "_model_name": "LayoutModel",
            "justify_items": null,
            "grid_row": null,
            "max_height": null,
            "align_content": null,
            "visibility": null,
            "align_self": null,
            "height": null,
            "min_height": null,
            "padding": null,
            "grid_auto_rows": null,
            "grid_gap": null,
            "max_width": null,
            "order": null,
            "_view_module_version": "1.2.0",
            "grid_template_areas": null,
            "object_position": null,
            "object_fit": null,
            "grid_auto_columns": null,
            "margin": null,
            "display": null,
            "left": null
          }
        },
        "cb6b49a8a250417990f96780c288bac9": {
          "model_module": "@jupyter-widgets/controls",
          "model_name": "FloatProgressModel",
          "state": {
            "_view_name": "ProgressView",
            "style": "IPY_MODEL_6b2c0f33d6954679950ac1526e01ab38",
            "_dom_classes": [],
            "description": "100%",
            "_model_name": "FloatProgressModel",
            "bar_style": "success",
            "max": 439,
            "_view_module": "@jupyter-widgets/controls",
            "_model_module_version": "1.5.0",
            "value": 439,
            "_view_count": null,
            "_view_module_version": "1.5.0",
            "orientation": "horizontal",
            "min": 0,
            "description_tooltip": null,
            "_model_module": "@jupyter-widgets/controls",
            "layout": "IPY_MODEL_7eeec6f280e842e98522f3118b050def"
          }
        },
        "884dc52048c1437eb9a63fce7f28c2c4": {
          "model_module": "@jupyter-widgets/controls",
          "model_name": "HTMLModel",
          "state": {
            "_view_name": "HTMLView",
            "style": "IPY_MODEL_8b8063cb0fab470d93bda4eac402c002",
            "_dom_classes": [],
            "description": "",
            "_model_name": "HTMLModel",
            "placeholder": "​",
            "_view_module": "@jupyter-widgets/controls",
            "_model_module_version": "1.5.0",
            "value": " 439/439 [11:15&lt;00:00,  1.54s/it]",
            "_view_count": null,
            "_view_module_version": "1.5.0",
            "description_tooltip": null,
            "_model_module": "@jupyter-widgets/controls",
            "layout": "IPY_MODEL_aafa87ff7b0c452c81958146ef48442e"
          }
        },
        "6b2c0f33d6954679950ac1526e01ab38": {
          "model_module": "@jupyter-widgets/controls",
          "model_name": "ProgressStyleModel",
          "state": {
            "_view_name": "StyleView",
            "_model_name": "ProgressStyleModel",
            "description_width": "initial",
            "_view_module": "@jupyter-widgets/base",
            "_model_module_version": "1.5.0",
            "_view_count": null,
            "_view_module_version": "1.2.0",
            "bar_color": null,
            "_model_module": "@jupyter-widgets/controls"
          }
        },
        "7eeec6f280e842e98522f3118b050def": {
          "model_module": "@jupyter-widgets/base",
          "model_name": "LayoutModel",
          "state": {
            "_view_name": "LayoutView",
            "grid_template_rows": null,
            "right": null,
            "justify_content": null,
            "_view_module": "@jupyter-widgets/base",
            "overflow": null,
            "_model_module_version": "1.2.0",
            "_view_count": null,
            "flex_flow": null,
            "width": null,
            "min_width": null,
            "border": null,
            "align_items": null,
            "bottom": null,
            "_model_module": "@jupyter-widgets/base",
            "top": null,
            "grid_column": null,
            "overflow_y": null,
            "overflow_x": null,
            "grid_auto_flow": null,
            "grid_area": null,
            "grid_template_columns": null,
            "flex": null,
            "_model_name": "LayoutModel",
            "justify_items": null,
            "grid_row": null,
            "max_height": null,
            "align_content": null,
            "visibility": null,
            "align_self": null,
            "height": null,
            "min_height": null,
            "padding": null,
            "grid_auto_rows": null,
            "grid_gap": null,
            "max_width": null,
            "order": null,
            "_view_module_version": "1.2.0",
            "grid_template_areas": null,
            "object_position": null,
            "object_fit": null,
            "grid_auto_columns": null,
            "margin": null,
            "display": null,
            "left": null
          }
        },
        "8b8063cb0fab470d93bda4eac402c002": {
          "model_module": "@jupyter-widgets/controls",
          "model_name": "DescriptionStyleModel",
          "state": {
            "_view_name": "StyleView",
            "_model_name": "DescriptionStyleModel",
            "description_width": "",
            "_view_module": "@jupyter-widgets/base",
            "_model_module_version": "1.5.0",
            "_view_count": null,
            "_view_module_version": "1.2.0",
            "_model_module": "@jupyter-widgets/controls"
          }
        },
        "aafa87ff7b0c452c81958146ef48442e": {
          "model_module": "@jupyter-widgets/base",
          "model_name": "LayoutModel",
          "state": {
            "_view_name": "LayoutView",
            "grid_template_rows": null,
            "right": null,
            "justify_content": null,
            "_view_module": "@jupyter-widgets/base",
            "overflow": null,
            "_model_module_version": "1.2.0",
            "_view_count": null,
            "flex_flow": null,
            "width": null,
            "min_width": null,
            "border": null,
            "align_items": null,
            "bottom": null,
            "_model_module": "@jupyter-widgets/base",
            "top": null,
            "grid_column": null,
            "overflow_y": null,
            "overflow_x": null,
            "grid_auto_flow": null,
            "grid_area": null,
            "grid_template_columns": null,
            "flex": null,
            "_model_name": "LayoutModel",
            "justify_items": null,
            "grid_row": null,
            "max_height": null,
            "align_content": null,
            "visibility": null,
            "align_self": null,
            "height": null,
            "min_height": null,
            "padding": null,
            "grid_auto_rows": null,
            "grid_gap": null,
            "max_width": null,
            "order": null,
            "_view_module_version": "1.2.0",
            "grid_template_areas": null,
            "object_position": null,
            "object_fit": null,
            "grid_auto_columns": null,
            "margin": null,
            "display": null,
            "left": null
          }
        },
        "1b6df57c6a3f436a94b3bff6db0455b8": {
          "model_module": "@jupyter-widgets/controls",
          "model_name": "HBoxModel",
          "state": {
            "_view_name": "HBoxView",
            "_dom_classes": [],
            "_model_name": "HBoxModel",
            "_view_module": "@jupyter-widgets/controls",
            "_model_module_version": "1.5.0",
            "_view_count": null,
            "_view_module_version": "1.5.0",
            "box_style": "",
            "layout": "IPY_MODEL_498032bde9b34cc58f5c0bbb7ea1a906",
            "_model_module": "@jupyter-widgets/controls",
            "children": [
              "IPY_MODEL_f5aa7b60669b48bcb1802699f6b57281",
              "IPY_MODEL_9dbeddbdb9114b3cb000b38eaf83a673"
            ]
          }
        },
        "498032bde9b34cc58f5c0bbb7ea1a906": {
          "model_module": "@jupyter-widgets/base",
          "model_name": "LayoutModel",
          "state": {
            "_view_name": "LayoutView",
            "grid_template_rows": null,
            "right": null,
            "justify_content": null,
            "_view_module": "@jupyter-widgets/base",
            "overflow": null,
            "_model_module_version": "1.2.0",
            "_view_count": null,
            "flex_flow": null,
            "width": null,
            "min_width": null,
            "border": null,
            "align_items": null,
            "bottom": null,
            "_model_module": "@jupyter-widgets/base",
            "top": null,
            "grid_column": null,
            "overflow_y": null,
            "overflow_x": null,
            "grid_auto_flow": null,
            "grid_area": null,
            "grid_template_columns": null,
            "flex": null,
            "_model_name": "LayoutModel",
            "justify_items": null,
            "grid_row": null,
            "max_height": null,
            "align_content": null,
            "visibility": null,
            "align_self": null,
            "height": null,
            "min_height": null,
            "padding": null,
            "grid_auto_rows": null,
            "grid_gap": null,
            "max_width": null,
            "order": null,
            "_view_module_version": "1.2.0",
            "grid_template_areas": null,
            "object_position": null,
            "object_fit": null,
            "grid_auto_columns": null,
            "margin": null,
            "display": null,
            "left": null
          }
        },
        "f5aa7b60669b48bcb1802699f6b57281": {
          "model_module": "@jupyter-widgets/controls",
          "model_name": "FloatProgressModel",
          "state": {
            "_view_name": "ProgressView",
            "style": "IPY_MODEL_e47d4e75fc4540d5908a5bb4f61482d5",
            "_dom_classes": [],
            "description": "100%",
            "_model_name": "FloatProgressModel",
            "bar_style": "success",
            "max": 439,
            "_view_module": "@jupyter-widgets/controls",
            "_model_module_version": "1.5.0",
            "value": 439,
            "_view_count": null,
            "_view_module_version": "1.5.0",
            "orientation": "horizontal",
            "min": 0,
            "description_tooltip": null,
            "_model_module": "@jupyter-widgets/controls",
            "layout": "IPY_MODEL_38a3aa9fdd634fd3b3e1d2dc60417b81"
          }
        },
        "9dbeddbdb9114b3cb000b38eaf83a673": {
          "model_module": "@jupyter-widgets/controls",
          "model_name": "HTMLModel",
          "state": {
            "_view_name": "HTMLView",
            "style": "IPY_MODEL_155450397bc441d2a59e9491d52c815d",
            "_dom_classes": [],
            "description": "",
            "_model_name": "HTMLModel",
            "placeholder": "​",
            "_view_module": "@jupyter-widgets/controls",
            "_model_module_version": "1.5.0",
            "value": " 439/439 [05:45&lt;00:00,  1.27it/s]",
            "_view_count": null,
            "_view_module_version": "1.5.0",
            "description_tooltip": null,
            "_model_module": "@jupyter-widgets/controls",
            "layout": "IPY_MODEL_b91f46db0b8048d4af144189f598be7e"
          }
        },
        "e47d4e75fc4540d5908a5bb4f61482d5": {
          "model_module": "@jupyter-widgets/controls",
          "model_name": "ProgressStyleModel",
          "state": {
            "_view_name": "StyleView",
            "_model_name": "ProgressStyleModel",
            "description_width": "initial",
            "_view_module": "@jupyter-widgets/base",
            "_model_module_version": "1.5.0",
            "_view_count": null,
            "_view_module_version": "1.2.0",
            "bar_color": null,
            "_model_module": "@jupyter-widgets/controls"
          }
        },
        "38a3aa9fdd634fd3b3e1d2dc60417b81": {
          "model_module": "@jupyter-widgets/base",
          "model_name": "LayoutModel",
          "state": {
            "_view_name": "LayoutView",
            "grid_template_rows": null,
            "right": null,
            "justify_content": null,
            "_view_module": "@jupyter-widgets/base",
            "overflow": null,
            "_model_module_version": "1.2.0",
            "_view_count": null,
            "flex_flow": null,
            "width": null,
            "min_width": null,
            "border": null,
            "align_items": null,
            "bottom": null,
            "_model_module": "@jupyter-widgets/base",
            "top": null,
            "grid_column": null,
            "overflow_y": null,
            "overflow_x": null,
            "grid_auto_flow": null,
            "grid_area": null,
            "grid_template_columns": null,
            "flex": null,
            "_model_name": "LayoutModel",
            "justify_items": null,
            "grid_row": null,
            "max_height": null,
            "align_content": null,
            "visibility": null,
            "align_self": null,
            "height": null,
            "min_height": null,
            "padding": null,
            "grid_auto_rows": null,
            "grid_gap": null,
            "max_width": null,
            "order": null,
            "_view_module_version": "1.2.0",
            "grid_template_areas": null,
            "object_position": null,
            "object_fit": null,
            "grid_auto_columns": null,
            "margin": null,
            "display": null,
            "left": null
          }
        },
        "155450397bc441d2a59e9491d52c815d": {
          "model_module": "@jupyter-widgets/controls",
          "model_name": "DescriptionStyleModel",
          "state": {
            "_view_name": "StyleView",
            "_model_name": "DescriptionStyleModel",
            "description_width": "",
            "_view_module": "@jupyter-widgets/base",
            "_model_module_version": "1.5.0",
            "_view_count": null,
            "_view_module_version": "1.2.0",
            "_model_module": "@jupyter-widgets/controls"
          }
        },
        "b91f46db0b8048d4af144189f598be7e": {
          "model_module": "@jupyter-widgets/base",
          "model_name": "LayoutModel",
          "state": {
            "_view_name": "LayoutView",
            "grid_template_rows": null,
            "right": null,
            "justify_content": null,
            "_view_module": "@jupyter-widgets/base",
            "overflow": null,
            "_model_module_version": "1.2.0",
            "_view_count": null,
            "flex_flow": null,
            "width": null,
            "min_width": null,
            "border": null,
            "align_items": null,
            "bottom": null,
            "_model_module": "@jupyter-widgets/base",
            "top": null,
            "grid_column": null,
            "overflow_y": null,
            "overflow_x": null,
            "grid_auto_flow": null,
            "grid_area": null,
            "grid_template_columns": null,
            "flex": null,
            "_model_name": "LayoutModel",
            "justify_items": null,
            "grid_row": null,
            "max_height": null,
            "align_content": null,
            "visibility": null,
            "align_self": null,
            "height": null,
            "min_height": null,
            "padding": null,
            "grid_auto_rows": null,
            "grid_gap": null,
            "max_width": null,
            "order": null,
            "_view_module_version": "1.2.0",
            "grid_template_areas": null,
            "object_position": null,
            "object_fit": null,
            "grid_auto_columns": null,
            "margin": null,
            "display": null,
            "left": null
          }
        },
        "d1a2ab199744469188e12767a280c1c4": {
          "model_module": "@jupyter-widgets/controls",
          "model_name": "HBoxModel",
          "state": {
            "_view_name": "HBoxView",
            "_dom_classes": [],
            "_model_name": "HBoxModel",
            "_view_module": "@jupyter-widgets/controls",
            "_model_module_version": "1.5.0",
            "_view_count": null,
            "_view_module_version": "1.5.0",
            "box_style": "",
            "layout": "IPY_MODEL_2c213fa106474c118a43f266ff813aa9",
            "_model_module": "@jupyter-widgets/controls",
            "children": [
              "IPY_MODEL_bae04c91df0241a8877492f6a9110892",
              "IPY_MODEL_ea4dd2693b0b4bfa82eba1e1c9f56dd7"
            ]
          }
        },
        "2c213fa106474c118a43f266ff813aa9": {
          "model_module": "@jupyter-widgets/base",
          "model_name": "LayoutModel",
          "state": {
            "_view_name": "LayoutView",
            "grid_template_rows": null,
            "right": null,
            "justify_content": null,
            "_view_module": "@jupyter-widgets/base",
            "overflow": null,
            "_model_module_version": "1.2.0",
            "_view_count": null,
            "flex_flow": null,
            "width": null,
            "min_width": null,
            "border": null,
            "align_items": null,
            "bottom": null,
            "_model_module": "@jupyter-widgets/base",
            "top": null,
            "grid_column": null,
            "overflow_y": null,
            "overflow_x": null,
            "grid_auto_flow": null,
            "grid_area": null,
            "grid_template_columns": null,
            "flex": null,
            "_model_name": "LayoutModel",
            "justify_items": null,
            "grid_row": null,
            "max_height": null,
            "align_content": null,
            "visibility": null,
            "align_self": null,
            "height": null,
            "min_height": null,
            "padding": null,
            "grid_auto_rows": null,
            "grid_gap": null,
            "max_width": null,
            "order": null,
            "_view_module_version": "1.2.0",
            "grid_template_areas": null,
            "object_position": null,
            "object_fit": null,
            "grid_auto_columns": null,
            "margin": null,
            "display": null,
            "left": null
          }
        },
        "bae04c91df0241a8877492f6a9110892": {
          "model_module": "@jupyter-widgets/controls",
          "model_name": "FloatProgressModel",
          "state": {
            "_view_name": "ProgressView",
            "style": "IPY_MODEL_428e4e4b5af746028e6a462137c30d9e",
            "_dom_classes": [],
            "description": "100%",
            "_model_name": "FloatProgressModel",
            "bar_style": "success",
            "max": 3,
            "_view_module": "@jupyter-widgets/controls",
            "_model_module_version": "1.5.0",
            "value": 3,
            "_view_count": null,
            "_view_module_version": "1.5.0",
            "orientation": "horizontal",
            "min": 0,
            "description_tooltip": null,
            "_model_module": "@jupyter-widgets/controls",
            "layout": "IPY_MODEL_7b7994ce059d46a89fdb1c8a3e2df7b3"
          }
        },
        "ea4dd2693b0b4bfa82eba1e1c9f56dd7": {
          "model_module": "@jupyter-widgets/controls",
          "model_name": "HTMLModel",
          "state": {
            "_view_name": "HTMLView",
            "style": "IPY_MODEL_5e38f862684740e2b1653f041252c3bb",
            "_dom_classes": [],
            "description": "",
            "_model_name": "HTMLModel",
            "placeholder": "​",
            "_view_module": "@jupyter-widgets/controls",
            "_model_module_version": "1.5.0",
            "value": " 3/3 [21:25&lt;00:00, 428.57s/it]",
            "_view_count": null,
            "_view_module_version": "1.5.0",
            "description_tooltip": null,
            "_model_module": "@jupyter-widgets/controls",
            "layout": "IPY_MODEL_ca2cd589a01249b38671bcd560cdd8bb"
          }
        },
        "428e4e4b5af746028e6a462137c30d9e": {
          "model_module": "@jupyter-widgets/controls",
          "model_name": "ProgressStyleModel",
          "state": {
            "_view_name": "StyleView",
            "_model_name": "ProgressStyleModel",
            "description_width": "initial",
            "_view_module": "@jupyter-widgets/base",
            "_model_module_version": "1.5.0",
            "_view_count": null,
            "_view_module_version": "1.2.0",
            "bar_color": null,
            "_model_module": "@jupyter-widgets/controls"
          }
        },
        "7b7994ce059d46a89fdb1c8a3e2df7b3": {
          "model_module": "@jupyter-widgets/base",
          "model_name": "LayoutModel",
          "state": {
            "_view_name": "LayoutView",
            "grid_template_rows": null,
            "right": null,
            "justify_content": null,
            "_view_module": "@jupyter-widgets/base",
            "overflow": null,
            "_model_module_version": "1.2.0",
            "_view_count": null,
            "flex_flow": null,
            "width": null,
            "min_width": null,
            "border": null,
            "align_items": null,
            "bottom": null,
            "_model_module": "@jupyter-widgets/base",
            "top": null,
            "grid_column": null,
            "overflow_y": null,
            "overflow_x": null,
            "grid_auto_flow": null,
            "grid_area": null,
            "grid_template_columns": null,
            "flex": null,
            "_model_name": "LayoutModel",
            "justify_items": null,
            "grid_row": null,
            "max_height": null,
            "align_content": null,
            "visibility": null,
            "align_self": null,
            "height": null,
            "min_height": null,
            "padding": null,
            "grid_auto_rows": null,
            "grid_gap": null,
            "max_width": null,
            "order": null,
            "_view_module_version": "1.2.0",
            "grid_template_areas": null,
            "object_position": null,
            "object_fit": null,
            "grid_auto_columns": null,
            "margin": null,
            "display": null,
            "left": null
          }
        },
        "5e38f862684740e2b1653f041252c3bb": {
          "model_module": "@jupyter-widgets/controls",
          "model_name": "DescriptionStyleModel",
          "state": {
            "_view_name": "StyleView",
            "_model_name": "DescriptionStyleModel",
            "description_width": "",
            "_view_module": "@jupyter-widgets/base",
            "_model_module_version": "1.5.0",
            "_view_count": null,
            "_view_module_version": "1.2.0",
            "_model_module": "@jupyter-widgets/controls"
          }
        },
        "ca2cd589a01249b38671bcd560cdd8bb": {
          "model_module": "@jupyter-widgets/base",
          "model_name": "LayoutModel",
          "state": {
            "_view_name": "LayoutView",
            "grid_template_rows": null,
            "right": null,
            "justify_content": null,
            "_view_module": "@jupyter-widgets/base",
            "overflow": null,
            "_model_module_version": "1.2.0",
            "_view_count": null,
            "flex_flow": null,
            "width": null,
            "min_width": null,
            "border": null,
            "align_items": null,
            "bottom": null,
            "_model_module": "@jupyter-widgets/base",
            "top": null,
            "grid_column": null,
            "overflow_y": null,
            "overflow_x": null,
            "grid_auto_flow": null,
            "grid_area": null,
            "grid_template_columns": null,
            "flex": null,
            "_model_name": "LayoutModel",
            "justify_items": null,
            "grid_row": null,
            "max_height": null,
            "align_content": null,
            "visibility": null,
            "align_self": null,
            "height": null,
            "min_height": null,
            "padding": null,
            "grid_auto_rows": null,
            "grid_gap": null,
            "max_width": null,
            "order": null,
            "_view_module_version": "1.2.0",
            "grid_template_areas": null,
            "object_position": null,
            "object_fit": null,
            "grid_auto_columns": null,
            "margin": null,
            "display": null,
            "left": null
          }
        },
        "a2c5b8d4d0e04c7b832809b1b6e510c2": {
          "model_module": "@jupyter-widgets/controls",
          "model_name": "HBoxModel",
          "state": {
            "_view_name": "HBoxView",
            "_dom_classes": [],
            "_model_name": "HBoxModel",
            "_view_module": "@jupyter-widgets/controls",
            "_model_module_version": "1.5.0",
            "_view_count": null,
            "_view_module_version": "1.5.0",
            "box_style": "",
            "layout": "IPY_MODEL_583427f685e443d2ae18915b8905987e",
            "_model_module": "@jupyter-widgets/controls",
            "children": [
              "IPY_MODEL_24787603d24c41ae91ac0dc29756768b",
              "IPY_MODEL_67533fba2afc4a5cbe8f78a772fdee7a"
            ]
          }
        },
        "583427f685e443d2ae18915b8905987e": {
          "model_module": "@jupyter-widgets/base",
          "model_name": "LayoutModel",
          "state": {
            "_view_name": "LayoutView",
            "grid_template_rows": null,
            "right": null,
            "justify_content": null,
            "_view_module": "@jupyter-widgets/base",
            "overflow": null,
            "_model_module_version": "1.2.0",
            "_view_count": null,
            "flex_flow": null,
            "width": null,
            "min_width": null,
            "border": null,
            "align_items": null,
            "bottom": null,
            "_model_module": "@jupyter-widgets/base",
            "top": null,
            "grid_column": null,
            "overflow_y": null,
            "overflow_x": null,
            "grid_auto_flow": null,
            "grid_area": null,
            "grid_template_columns": null,
            "flex": null,
            "_model_name": "LayoutModel",
            "justify_items": null,
            "grid_row": null,
            "max_height": null,
            "align_content": null,
            "visibility": null,
            "align_self": null,
            "height": null,
            "min_height": null,
            "padding": null,
            "grid_auto_rows": null,
            "grid_gap": null,
            "max_width": null,
            "order": null,
            "_view_module_version": "1.2.0",
            "grid_template_areas": null,
            "object_position": null,
            "object_fit": null,
            "grid_auto_columns": null,
            "margin": null,
            "display": null,
            "left": null
          }
        },
        "24787603d24c41ae91ac0dc29756768b": {
          "model_module": "@jupyter-widgets/controls",
          "model_name": "FloatProgressModel",
          "state": {
            "_view_name": "ProgressView",
            "style": "IPY_MODEL_6769e23da0174005abb64fa5886d4058",
            "_dom_classes": [],
            "description": "100%",
            "_model_name": "FloatProgressModel",
            "bar_style": "success",
            "max": 439,
            "_view_module": "@jupyter-widgets/controls",
            "_model_module_version": "1.5.0",
            "value": 439,
            "_view_count": null,
            "_view_module_version": "1.5.0",
            "orientation": "horizontal",
            "min": 0,
            "description_tooltip": null,
            "_model_module": "@jupyter-widgets/controls",
            "layout": "IPY_MODEL_9762016db1884c059ee9bac9ed0e59c8"
          }
        },
        "67533fba2afc4a5cbe8f78a772fdee7a": {
          "model_module": "@jupyter-widgets/controls",
          "model_name": "HTMLModel",
          "state": {
            "_view_name": "HTMLView",
            "style": "IPY_MODEL_ce0b1a05458d42eb9978e1d255673614",
            "_dom_classes": [],
            "description": "",
            "_model_name": "HTMLModel",
            "placeholder": "​",
            "_view_module": "@jupyter-widgets/controls",
            "_model_module_version": "1.5.0",
            "value": " 439/439 [21:27&lt;00:00,  2.93s/it]",
            "_view_count": null,
            "_view_module_version": "1.5.0",
            "description_tooltip": null,
            "_model_module": "@jupyter-widgets/controls",
            "layout": "IPY_MODEL_80bb13faee9b43d7b45c77ee83c446a0"
          }
        },
        "6769e23da0174005abb64fa5886d4058": {
          "model_module": "@jupyter-widgets/controls",
          "model_name": "ProgressStyleModel",
          "state": {
            "_view_name": "StyleView",
            "_model_name": "ProgressStyleModel",
            "description_width": "initial",
            "_view_module": "@jupyter-widgets/base",
            "_model_module_version": "1.5.0",
            "_view_count": null,
            "_view_module_version": "1.2.0",
            "bar_color": null,
            "_model_module": "@jupyter-widgets/controls"
          }
        },
        "9762016db1884c059ee9bac9ed0e59c8": {
          "model_module": "@jupyter-widgets/base",
          "model_name": "LayoutModel",
          "state": {
            "_view_name": "LayoutView",
            "grid_template_rows": null,
            "right": null,
            "justify_content": null,
            "_view_module": "@jupyter-widgets/base",
            "overflow": null,
            "_model_module_version": "1.2.0",
            "_view_count": null,
            "flex_flow": null,
            "width": null,
            "min_width": null,
            "border": null,
            "align_items": null,
            "bottom": null,
            "_model_module": "@jupyter-widgets/base",
            "top": null,
            "grid_column": null,
            "overflow_y": null,
            "overflow_x": null,
            "grid_auto_flow": null,
            "grid_area": null,
            "grid_template_columns": null,
            "flex": null,
            "_model_name": "LayoutModel",
            "justify_items": null,
            "grid_row": null,
            "max_height": null,
            "align_content": null,
            "visibility": null,
            "align_self": null,
            "height": null,
            "min_height": null,
            "padding": null,
            "grid_auto_rows": null,
            "grid_gap": null,
            "max_width": null,
            "order": null,
            "_view_module_version": "1.2.0",
            "grid_template_areas": null,
            "object_position": null,
            "object_fit": null,
            "grid_auto_columns": null,
            "margin": null,
            "display": null,
            "left": null
          }
        },
        "ce0b1a05458d42eb9978e1d255673614": {
          "model_module": "@jupyter-widgets/controls",
          "model_name": "DescriptionStyleModel",
          "state": {
            "_view_name": "StyleView",
            "_model_name": "DescriptionStyleModel",
            "description_width": "",
            "_view_module": "@jupyter-widgets/base",
            "_model_module_version": "1.5.0",
            "_view_count": null,
            "_view_module_version": "1.2.0",
            "_model_module": "@jupyter-widgets/controls"
          }
        },
        "80bb13faee9b43d7b45c77ee83c446a0": {
          "model_module": "@jupyter-widgets/base",
          "model_name": "LayoutModel",
          "state": {
            "_view_name": "LayoutView",
            "grid_template_rows": null,
            "right": null,
            "justify_content": null,
            "_view_module": "@jupyter-widgets/base",
            "overflow": null,
            "_model_module_version": "1.2.0",
            "_view_count": null,
            "flex_flow": null,
            "width": null,
            "min_width": null,
            "border": null,
            "align_items": null,
            "bottom": null,
            "_model_module": "@jupyter-widgets/base",
            "top": null,
            "grid_column": null,
            "overflow_y": null,
            "overflow_x": null,
            "grid_auto_flow": null,
            "grid_area": null,
            "grid_template_columns": null,
            "flex": null,
            "_model_name": "LayoutModel",
            "justify_items": null,
            "grid_row": null,
            "max_height": null,
            "align_content": null,
            "visibility": null,
            "align_self": null,
            "height": null,
            "min_height": null,
            "padding": null,
            "grid_auto_rows": null,
            "grid_gap": null,
            "max_width": null,
            "order": null,
            "_view_module_version": "1.2.0",
            "grid_template_areas": null,
            "object_position": null,
            "object_fit": null,
            "grid_auto_columns": null,
            "margin": null,
            "display": null,
            "left": null
          }
        },
        "c88b607be8a6437fa2267b2b3a4e12b1": {
          "model_module": "@jupyter-widgets/controls",
          "model_name": "HBoxModel",
          "state": {
            "_view_name": "HBoxView",
            "_dom_classes": [],
            "_model_name": "HBoxModel",
            "_view_module": "@jupyter-widgets/controls",
            "_model_module_version": "1.5.0",
            "_view_count": null,
            "_view_module_version": "1.5.0",
            "box_style": "",
            "layout": "IPY_MODEL_cfe0e401597e46d4945c6fcd4180894f",
            "_model_module": "@jupyter-widgets/controls",
            "children": [
              "IPY_MODEL_4457707f27c74b6bb689435abcf7d180",
              "IPY_MODEL_7ce033f83408462ba5781ee9b6686a98"
            ]
          }
        },
        "cfe0e401597e46d4945c6fcd4180894f": {
          "model_module": "@jupyter-widgets/base",
          "model_name": "LayoutModel",
          "state": {
            "_view_name": "LayoutView",
            "grid_template_rows": null,
            "right": null,
            "justify_content": null,
            "_view_module": "@jupyter-widgets/base",
            "overflow": null,
            "_model_module_version": "1.2.0",
            "_view_count": null,
            "flex_flow": null,
            "width": null,
            "min_width": null,
            "border": null,
            "align_items": null,
            "bottom": null,
            "_model_module": "@jupyter-widgets/base",
            "top": null,
            "grid_column": null,
            "overflow_y": null,
            "overflow_x": null,
            "grid_auto_flow": null,
            "grid_area": null,
            "grid_template_columns": null,
            "flex": null,
            "_model_name": "LayoutModel",
            "justify_items": null,
            "grid_row": null,
            "max_height": null,
            "align_content": null,
            "visibility": null,
            "align_self": null,
            "height": null,
            "min_height": null,
            "padding": null,
            "grid_auto_rows": null,
            "grid_gap": null,
            "max_width": null,
            "order": null,
            "_view_module_version": "1.2.0",
            "grid_template_areas": null,
            "object_position": null,
            "object_fit": null,
            "grid_auto_columns": null,
            "margin": null,
            "display": null,
            "left": null
          }
        },
        "4457707f27c74b6bb689435abcf7d180": {
          "model_module": "@jupyter-widgets/controls",
          "model_name": "FloatProgressModel",
          "state": {
            "_view_name": "ProgressView",
            "style": "IPY_MODEL_66c52d91d2e848038fbd08089876b0a8",
            "_dom_classes": [],
            "description": "100%",
            "_model_name": "FloatProgressModel",
            "bar_style": "success",
            "max": 439,
            "_view_module": "@jupyter-widgets/controls",
            "_model_module_version": "1.5.0",
            "value": 439,
            "_view_count": null,
            "_view_module_version": "1.5.0",
            "orientation": "horizontal",
            "min": 0,
            "description_tooltip": null,
            "_model_module": "@jupyter-widgets/controls",
            "layout": "IPY_MODEL_f4de808b113f42169382c401043f6df0"
          }
        },
        "7ce033f83408462ba5781ee9b6686a98": {
          "model_module": "@jupyter-widgets/controls",
          "model_name": "HTMLModel",
          "state": {
            "_view_name": "HTMLView",
            "style": "IPY_MODEL_64ef4d1dc0484478a04265b6c088ce7b",
            "_dom_classes": [],
            "description": "",
            "_model_name": "HTMLModel",
            "placeholder": "​",
            "_view_module": "@jupyter-widgets/controls",
            "_model_module_version": "1.5.0",
            "value": " 439/439 [16:03&lt;00:00,  2.19s/it]",
            "_view_count": null,
            "_view_module_version": "1.5.0",
            "description_tooltip": null,
            "_model_module": "@jupyter-widgets/controls",
            "layout": "IPY_MODEL_fb4a109c79284e779d607dde6ab4500f"
          }
        },
        "66c52d91d2e848038fbd08089876b0a8": {
          "model_module": "@jupyter-widgets/controls",
          "model_name": "ProgressStyleModel",
          "state": {
            "_view_name": "StyleView",
            "_model_name": "ProgressStyleModel",
            "description_width": "initial",
            "_view_module": "@jupyter-widgets/base",
            "_model_module_version": "1.5.0",
            "_view_count": null,
            "_view_module_version": "1.2.0",
            "bar_color": null,
            "_model_module": "@jupyter-widgets/controls"
          }
        },
        "f4de808b113f42169382c401043f6df0": {
          "model_module": "@jupyter-widgets/base",
          "model_name": "LayoutModel",
          "state": {
            "_view_name": "LayoutView",
            "grid_template_rows": null,
            "right": null,
            "justify_content": null,
            "_view_module": "@jupyter-widgets/base",
            "overflow": null,
            "_model_module_version": "1.2.0",
            "_view_count": null,
            "flex_flow": null,
            "width": null,
            "min_width": null,
            "border": null,
            "align_items": null,
            "bottom": null,
            "_model_module": "@jupyter-widgets/base",
            "top": null,
            "grid_column": null,
            "overflow_y": null,
            "overflow_x": null,
            "grid_auto_flow": null,
            "grid_area": null,
            "grid_template_columns": null,
            "flex": null,
            "_model_name": "LayoutModel",
            "justify_items": null,
            "grid_row": null,
            "max_height": null,
            "align_content": null,
            "visibility": null,
            "align_self": null,
            "height": null,
            "min_height": null,
            "padding": null,
            "grid_auto_rows": null,
            "grid_gap": null,
            "max_width": null,
            "order": null,
            "_view_module_version": "1.2.0",
            "grid_template_areas": null,
            "object_position": null,
            "object_fit": null,
            "grid_auto_columns": null,
            "margin": null,
            "display": null,
            "left": null
          }
        },
        "64ef4d1dc0484478a04265b6c088ce7b": {
          "model_module": "@jupyter-widgets/controls",
          "model_name": "DescriptionStyleModel",
          "state": {
            "_view_name": "StyleView",
            "_model_name": "DescriptionStyleModel",
            "description_width": "",
            "_view_module": "@jupyter-widgets/base",
            "_model_module_version": "1.5.0",
            "_view_count": null,
            "_view_module_version": "1.2.0",
            "_model_module": "@jupyter-widgets/controls"
          }
        },
        "fb4a109c79284e779d607dde6ab4500f": {
          "model_module": "@jupyter-widgets/base",
          "model_name": "LayoutModel",
          "state": {
            "_view_name": "LayoutView",
            "grid_template_rows": null,
            "right": null,
            "justify_content": null,
            "_view_module": "@jupyter-widgets/base",
            "overflow": null,
            "_model_module_version": "1.2.0",
            "_view_count": null,
            "flex_flow": null,
            "width": null,
            "min_width": null,
            "border": null,
            "align_items": null,
            "bottom": null,
            "_model_module": "@jupyter-widgets/base",
            "top": null,
            "grid_column": null,
            "overflow_y": null,
            "overflow_x": null,
            "grid_auto_flow": null,
            "grid_area": null,
            "grid_template_columns": null,
            "flex": null,
            "_model_name": "LayoutModel",
            "justify_items": null,
            "grid_row": null,
            "max_height": null,
            "align_content": null,
            "visibility": null,
            "align_self": null,
            "height": null,
            "min_height": null,
            "padding": null,
            "grid_auto_rows": null,
            "grid_gap": null,
            "max_width": null,
            "order": null,
            "_view_module_version": "1.2.0",
            "grid_template_areas": null,
            "object_position": null,
            "object_fit": null,
            "grid_auto_columns": null,
            "margin": null,
            "display": null,
            "left": null
          }
        },
        "a28b48d0ea544c809f6944e1a7644e82": {
          "model_module": "@jupyter-widgets/controls",
          "model_name": "HBoxModel",
          "state": {
            "_view_name": "HBoxView",
            "_dom_classes": [],
            "_model_name": "HBoxModel",
            "_view_module": "@jupyter-widgets/controls",
            "_model_module_version": "1.5.0",
            "_view_count": null,
            "_view_module_version": "1.5.0",
            "box_style": "",
            "layout": "IPY_MODEL_ce6211bb52f346408ecc5b3370ae95e2",
            "_model_module": "@jupyter-widgets/controls",
            "children": [
              "IPY_MODEL_30a14b4ccb3f4693920c813ef4bc5269",
              "IPY_MODEL_e81ea47c907f4db98c8eeb9c04c5700f"
            ]
          }
        },
        "ce6211bb52f346408ecc5b3370ae95e2": {
          "model_module": "@jupyter-widgets/base",
          "model_name": "LayoutModel",
          "state": {
            "_view_name": "LayoutView",
            "grid_template_rows": null,
            "right": null,
            "justify_content": null,
            "_view_module": "@jupyter-widgets/base",
            "overflow": null,
            "_model_module_version": "1.2.0",
            "_view_count": null,
            "flex_flow": null,
            "width": null,
            "min_width": null,
            "border": null,
            "align_items": null,
            "bottom": null,
            "_model_module": "@jupyter-widgets/base",
            "top": null,
            "grid_column": null,
            "overflow_y": null,
            "overflow_x": null,
            "grid_auto_flow": null,
            "grid_area": null,
            "grid_template_columns": null,
            "flex": null,
            "_model_name": "LayoutModel",
            "justify_items": null,
            "grid_row": null,
            "max_height": null,
            "align_content": null,
            "visibility": null,
            "align_self": null,
            "height": null,
            "min_height": null,
            "padding": null,
            "grid_auto_rows": null,
            "grid_gap": null,
            "max_width": null,
            "order": null,
            "_view_module_version": "1.2.0",
            "grid_template_areas": null,
            "object_position": null,
            "object_fit": null,
            "grid_auto_columns": null,
            "margin": null,
            "display": null,
            "left": null
          }
        },
        "30a14b4ccb3f4693920c813ef4bc5269": {
          "model_module": "@jupyter-widgets/controls",
          "model_name": "FloatProgressModel",
          "state": {
            "_view_name": "ProgressView",
            "style": "IPY_MODEL_674b5eebe1a040b88e6c1cfbc967bc48",
            "_dom_classes": [],
            "description": "100%",
            "_model_name": "FloatProgressModel",
            "bar_style": "success",
            "max": 439,
            "_view_module": "@jupyter-widgets/controls",
            "_model_module_version": "1.5.0",
            "value": 439,
            "_view_count": null,
            "_view_module_version": "1.5.0",
            "orientation": "horizontal",
            "min": 0,
            "description_tooltip": null,
            "_model_module": "@jupyter-widgets/controls",
            "layout": "IPY_MODEL_e8311bbd61fc4ea4b2a020fa4ffa6d75"
          }
        },
        "e81ea47c907f4db98c8eeb9c04c5700f": {
          "model_module": "@jupyter-widgets/controls",
          "model_name": "HTMLModel",
          "state": {
            "_view_name": "HTMLView",
            "style": "IPY_MODEL_d1cf3c8f4c9c4c1cafd0542953a7c64e",
            "_dom_classes": [],
            "description": "",
            "_model_name": "HTMLModel",
            "placeholder": "​",
            "_view_module": "@jupyter-widgets/controls",
            "_model_module_version": "1.5.0",
            "value": " 439/439 [08:46&lt;00:00,  1.20s/it]",
            "_view_count": null,
            "_view_module_version": "1.5.0",
            "description_tooltip": null,
            "_model_module": "@jupyter-widgets/controls",
            "layout": "IPY_MODEL_b3209d0751674f4dbfc7423a554a84f0"
          }
        },
        "674b5eebe1a040b88e6c1cfbc967bc48": {
          "model_module": "@jupyter-widgets/controls",
          "model_name": "ProgressStyleModel",
          "state": {
            "_view_name": "StyleView",
            "_model_name": "ProgressStyleModel",
            "description_width": "initial",
            "_view_module": "@jupyter-widgets/base",
            "_model_module_version": "1.5.0",
            "_view_count": null,
            "_view_module_version": "1.2.0",
            "bar_color": null,
            "_model_module": "@jupyter-widgets/controls"
          }
        },
        "e8311bbd61fc4ea4b2a020fa4ffa6d75": {
          "model_module": "@jupyter-widgets/base",
          "model_name": "LayoutModel",
          "state": {
            "_view_name": "LayoutView",
            "grid_template_rows": null,
            "right": null,
            "justify_content": null,
            "_view_module": "@jupyter-widgets/base",
            "overflow": null,
            "_model_module_version": "1.2.0",
            "_view_count": null,
            "flex_flow": null,
            "width": null,
            "min_width": null,
            "border": null,
            "align_items": null,
            "bottom": null,
            "_model_module": "@jupyter-widgets/base",
            "top": null,
            "grid_column": null,
            "overflow_y": null,
            "overflow_x": null,
            "grid_auto_flow": null,
            "grid_area": null,
            "grid_template_columns": null,
            "flex": null,
            "_model_name": "LayoutModel",
            "justify_items": null,
            "grid_row": null,
            "max_height": null,
            "align_content": null,
            "visibility": null,
            "align_self": null,
            "height": null,
            "min_height": null,
            "padding": null,
            "grid_auto_rows": null,
            "grid_gap": null,
            "max_width": null,
            "order": null,
            "_view_module_version": "1.2.0",
            "grid_template_areas": null,
            "object_position": null,
            "object_fit": null,
            "grid_auto_columns": null,
            "margin": null,
            "display": null,
            "left": null
          }
        },
        "d1cf3c8f4c9c4c1cafd0542953a7c64e": {
          "model_module": "@jupyter-widgets/controls",
          "model_name": "DescriptionStyleModel",
          "state": {
            "_view_name": "StyleView",
            "_model_name": "DescriptionStyleModel",
            "description_width": "",
            "_view_module": "@jupyter-widgets/base",
            "_model_module_version": "1.5.0",
            "_view_count": null,
            "_view_module_version": "1.2.0",
            "_model_module": "@jupyter-widgets/controls"
          }
        },
        "b3209d0751674f4dbfc7423a554a84f0": {
          "model_module": "@jupyter-widgets/base",
          "model_name": "LayoutModel",
          "state": {
            "_view_name": "LayoutView",
            "grid_template_rows": null,
            "right": null,
            "justify_content": null,
            "_view_module": "@jupyter-widgets/base",
            "overflow": null,
            "_model_module_version": "1.2.0",
            "_view_count": null,
            "flex_flow": null,
            "width": null,
            "min_width": null,
            "border": null,
            "align_items": null,
            "bottom": null,
            "_model_module": "@jupyter-widgets/base",
            "top": null,
            "grid_column": null,
            "overflow_y": null,
            "overflow_x": null,
            "grid_auto_flow": null,
            "grid_area": null,
            "grid_template_columns": null,
            "flex": null,
            "_model_name": "LayoutModel",
            "justify_items": null,
            "grid_row": null,
            "max_height": null,
            "align_content": null,
            "visibility": null,
            "align_self": null,
            "height": null,
            "min_height": null,
            "padding": null,
            "grid_auto_rows": null,
            "grid_gap": null,
            "max_width": null,
            "order": null,
            "_view_module_version": "1.2.0",
            "grid_template_areas": null,
            "object_position": null,
            "object_fit": null,
            "grid_auto_columns": null,
            "margin": null,
            "display": null,
            "left": null
          }
        },
        "5cf76aaa02534dba9ec1c6d99945e716": {
          "model_module": "@jupyter-widgets/controls",
          "model_name": "HBoxModel",
          "state": {
            "_view_name": "HBoxView",
            "_dom_classes": [],
            "_model_name": "HBoxModel",
            "_view_module": "@jupyter-widgets/controls",
            "_model_module_version": "1.5.0",
            "_view_count": null,
            "_view_module_version": "1.5.0",
            "box_style": "",
            "layout": "IPY_MODEL_1ca4d8b54577489282a5022e7e4f67e9",
            "_model_module": "@jupyter-widgets/controls",
            "children": [
              "IPY_MODEL_67397d563b654fb79498a7f92700e374",
              "IPY_MODEL_5cb4c73be677473e949dd2912a51250f"
            ]
          }
        },
        "1ca4d8b54577489282a5022e7e4f67e9": {
          "model_module": "@jupyter-widgets/base",
          "model_name": "LayoutModel",
          "state": {
            "_view_name": "LayoutView",
            "grid_template_rows": null,
            "right": null,
            "justify_content": null,
            "_view_module": "@jupyter-widgets/base",
            "overflow": null,
            "_model_module_version": "1.2.0",
            "_view_count": null,
            "flex_flow": null,
            "width": null,
            "min_width": null,
            "border": null,
            "align_items": null,
            "bottom": null,
            "_model_module": "@jupyter-widgets/base",
            "top": null,
            "grid_column": null,
            "overflow_y": null,
            "overflow_x": null,
            "grid_auto_flow": null,
            "grid_area": null,
            "grid_template_columns": null,
            "flex": null,
            "_model_name": "LayoutModel",
            "justify_items": null,
            "grid_row": null,
            "max_height": null,
            "align_content": null,
            "visibility": null,
            "align_self": null,
            "height": null,
            "min_height": null,
            "padding": null,
            "grid_auto_rows": null,
            "grid_gap": null,
            "max_width": null,
            "order": null,
            "_view_module_version": "1.2.0",
            "grid_template_areas": null,
            "object_position": null,
            "object_fit": null,
            "grid_auto_columns": null,
            "margin": null,
            "display": null,
            "left": null
          }
        },
        "67397d563b654fb79498a7f92700e374": {
          "model_module": "@jupyter-widgets/controls",
          "model_name": "FloatProgressModel",
          "state": {
            "_view_name": "ProgressView",
            "style": "IPY_MODEL_421d1971902d42aba2555afb6cea0ffd",
            "_dom_classes": [],
            "description": "100%",
            "_model_name": "FloatProgressModel",
            "bar_style": "success",
            "max": 3,
            "_view_module": "@jupyter-widgets/controls",
            "_model_module_version": "1.5.0",
            "value": 3,
            "_view_count": null,
            "_view_module_version": "1.5.0",
            "orientation": "horizontal",
            "min": 0,
            "description_tooltip": null,
            "_model_module": "@jupyter-widgets/controls",
            "layout": "IPY_MODEL_5d09ab015b4d44e5939751c9d657600a"
          }
        },
        "5cb4c73be677473e949dd2912a51250f": {
          "model_module": "@jupyter-widgets/controls",
          "model_name": "HTMLModel",
          "state": {
            "_view_name": "HTMLView",
            "style": "IPY_MODEL_6015bc3ac8e74ef0b4bf69cc107a9d99",
            "_dom_classes": [],
            "description": "",
            "_model_name": "HTMLModel",
            "placeholder": "​",
            "_view_module": "@jupyter-widgets/controls",
            "_model_module_version": "1.5.0",
            "value": " 3/3 [19:27&lt;00:00, 389.10s/it]",
            "_view_count": null,
            "_view_module_version": "1.5.0",
            "description_tooltip": null,
            "_model_module": "@jupyter-widgets/controls",
            "layout": "IPY_MODEL_71b86b51819845f49a0a61ce2114be2c"
          }
        },
        "421d1971902d42aba2555afb6cea0ffd": {
          "model_module": "@jupyter-widgets/controls",
          "model_name": "ProgressStyleModel",
          "state": {
            "_view_name": "StyleView",
            "_model_name": "ProgressStyleModel",
            "description_width": "initial",
            "_view_module": "@jupyter-widgets/base",
            "_model_module_version": "1.5.0",
            "_view_count": null,
            "_view_module_version": "1.2.0",
            "bar_color": null,
            "_model_module": "@jupyter-widgets/controls"
          }
        },
        "5d09ab015b4d44e5939751c9d657600a": {
          "model_module": "@jupyter-widgets/base",
          "model_name": "LayoutModel",
          "state": {
            "_view_name": "LayoutView",
            "grid_template_rows": null,
            "right": null,
            "justify_content": null,
            "_view_module": "@jupyter-widgets/base",
            "overflow": null,
            "_model_module_version": "1.2.0",
            "_view_count": null,
            "flex_flow": null,
            "width": null,
            "min_width": null,
            "border": null,
            "align_items": null,
            "bottom": null,
            "_model_module": "@jupyter-widgets/base",
            "top": null,
            "grid_column": null,
            "overflow_y": null,
            "overflow_x": null,
            "grid_auto_flow": null,
            "grid_area": null,
            "grid_template_columns": null,
            "flex": null,
            "_model_name": "LayoutModel",
            "justify_items": null,
            "grid_row": null,
            "max_height": null,
            "align_content": null,
            "visibility": null,
            "align_self": null,
            "height": null,
            "min_height": null,
            "padding": null,
            "grid_auto_rows": null,
            "grid_gap": null,
            "max_width": null,
            "order": null,
            "_view_module_version": "1.2.0",
            "grid_template_areas": null,
            "object_position": null,
            "object_fit": null,
            "grid_auto_columns": null,
            "margin": null,
            "display": null,
            "left": null
          }
        },
        "6015bc3ac8e74ef0b4bf69cc107a9d99": {
          "model_module": "@jupyter-widgets/controls",
          "model_name": "DescriptionStyleModel",
          "state": {
            "_view_name": "StyleView",
            "_model_name": "DescriptionStyleModel",
            "description_width": "",
            "_view_module": "@jupyter-widgets/base",
            "_model_module_version": "1.5.0",
            "_view_count": null,
            "_view_module_version": "1.2.0",
            "_model_module": "@jupyter-widgets/controls"
          }
        },
        "71b86b51819845f49a0a61ce2114be2c": {
          "model_module": "@jupyter-widgets/base",
          "model_name": "LayoutModel",
          "state": {
            "_view_name": "LayoutView",
            "grid_template_rows": null,
            "right": null,
            "justify_content": null,
            "_view_module": "@jupyter-widgets/base",
            "overflow": null,
            "_model_module_version": "1.2.0",
            "_view_count": null,
            "flex_flow": null,
            "width": null,
            "min_width": null,
            "border": null,
            "align_items": null,
            "bottom": null,
            "_model_module": "@jupyter-widgets/base",
            "top": null,
            "grid_column": null,
            "overflow_y": null,
            "overflow_x": null,
            "grid_auto_flow": null,
            "grid_area": null,
            "grid_template_columns": null,
            "flex": null,
            "_model_name": "LayoutModel",
            "justify_items": null,
            "grid_row": null,
            "max_height": null,
            "align_content": null,
            "visibility": null,
            "align_self": null,
            "height": null,
            "min_height": null,
            "padding": null,
            "grid_auto_rows": null,
            "grid_gap": null,
            "max_width": null,
            "order": null,
            "_view_module_version": "1.2.0",
            "grid_template_areas": null,
            "object_position": null,
            "object_fit": null,
            "grid_auto_columns": null,
            "margin": null,
            "display": null,
            "left": null
          }
        },
        "b2dc9f22704c4b5fbed7ac71a496a6f6": {
          "model_module": "@jupyter-widgets/controls",
          "model_name": "HBoxModel",
          "state": {
            "_view_name": "HBoxView",
            "_dom_classes": [],
            "_model_name": "HBoxModel",
            "_view_module": "@jupyter-widgets/controls",
            "_model_module_version": "1.5.0",
            "_view_count": null,
            "_view_module_version": "1.5.0",
            "box_style": "",
            "layout": "IPY_MODEL_89eeff8af5de45aea4641a7a48ff3506",
            "_model_module": "@jupyter-widgets/controls",
            "children": [
              "IPY_MODEL_800738b56413423fbf15f245dccd9220",
              "IPY_MODEL_a32103f0eeb74beda823144766882141"
            ]
          }
        },
        "89eeff8af5de45aea4641a7a48ff3506": {
          "model_module": "@jupyter-widgets/base",
          "model_name": "LayoutModel",
          "state": {
            "_view_name": "LayoutView",
            "grid_template_rows": null,
            "right": null,
            "justify_content": null,
            "_view_module": "@jupyter-widgets/base",
            "overflow": null,
            "_model_module_version": "1.2.0",
            "_view_count": null,
            "flex_flow": null,
            "width": null,
            "min_width": null,
            "border": null,
            "align_items": null,
            "bottom": null,
            "_model_module": "@jupyter-widgets/base",
            "top": null,
            "grid_column": null,
            "overflow_y": null,
            "overflow_x": null,
            "grid_auto_flow": null,
            "grid_area": null,
            "grid_template_columns": null,
            "flex": null,
            "_model_name": "LayoutModel",
            "justify_items": null,
            "grid_row": null,
            "max_height": null,
            "align_content": null,
            "visibility": null,
            "align_self": null,
            "height": null,
            "min_height": null,
            "padding": null,
            "grid_auto_rows": null,
            "grid_gap": null,
            "max_width": null,
            "order": null,
            "_view_module_version": "1.2.0",
            "grid_template_areas": null,
            "object_position": null,
            "object_fit": null,
            "grid_auto_columns": null,
            "margin": null,
            "display": null,
            "left": null
          }
        },
        "800738b56413423fbf15f245dccd9220": {
          "model_module": "@jupyter-widgets/controls",
          "model_name": "FloatProgressModel",
          "state": {
            "_view_name": "ProgressView",
            "style": "IPY_MODEL_1dc28401108a42e3a2dd17f045fdf667",
            "_dom_classes": [],
            "description": "100%",
            "_model_name": "FloatProgressModel",
            "bar_style": "success",
            "max": 439,
            "_view_module": "@jupyter-widgets/controls",
            "_model_module_version": "1.5.0",
            "value": 439,
            "_view_count": null,
            "_view_module_version": "1.5.0",
            "orientation": "horizontal",
            "min": 0,
            "description_tooltip": null,
            "_model_module": "@jupyter-widgets/controls",
            "layout": "IPY_MODEL_0ed370a693e4407e825b80c3aa085335"
          }
        },
        "a32103f0eeb74beda823144766882141": {
          "model_module": "@jupyter-widgets/controls",
          "model_name": "HTMLModel",
          "state": {
            "_view_name": "HTMLView",
            "style": "IPY_MODEL_39f68bc19d724910b58c3f27d1cdfdb4",
            "_dom_classes": [],
            "description": "",
            "_model_name": "HTMLModel",
            "placeholder": "​",
            "_view_module": "@jupyter-widgets/controls",
            "_model_module_version": "1.5.0",
            "value": " 439/439 [12:41&lt;00:00,  1.73s/it]",
            "_view_count": null,
            "_view_module_version": "1.5.0",
            "description_tooltip": null,
            "_model_module": "@jupyter-widgets/controls",
            "layout": "IPY_MODEL_299db2aefc3949749c9faaba90638878"
          }
        },
        "1dc28401108a42e3a2dd17f045fdf667": {
          "model_module": "@jupyter-widgets/controls",
          "model_name": "ProgressStyleModel",
          "state": {
            "_view_name": "StyleView",
            "_model_name": "ProgressStyleModel",
            "description_width": "initial",
            "_view_module": "@jupyter-widgets/base",
            "_model_module_version": "1.5.0",
            "_view_count": null,
            "_view_module_version": "1.2.0",
            "bar_color": null,
            "_model_module": "@jupyter-widgets/controls"
          }
        },
        "0ed370a693e4407e825b80c3aa085335": {
          "model_module": "@jupyter-widgets/base",
          "model_name": "LayoutModel",
          "state": {
            "_view_name": "LayoutView",
            "grid_template_rows": null,
            "right": null,
            "justify_content": null,
            "_view_module": "@jupyter-widgets/base",
            "overflow": null,
            "_model_module_version": "1.2.0",
            "_view_count": null,
            "flex_flow": null,
            "width": null,
            "min_width": null,
            "border": null,
            "align_items": null,
            "bottom": null,
            "_model_module": "@jupyter-widgets/base",
            "top": null,
            "grid_column": null,
            "overflow_y": null,
            "overflow_x": null,
            "grid_auto_flow": null,
            "grid_area": null,
            "grid_template_columns": null,
            "flex": null,
            "_model_name": "LayoutModel",
            "justify_items": null,
            "grid_row": null,
            "max_height": null,
            "align_content": null,
            "visibility": null,
            "align_self": null,
            "height": null,
            "min_height": null,
            "padding": null,
            "grid_auto_rows": null,
            "grid_gap": null,
            "max_width": null,
            "order": null,
            "_view_module_version": "1.2.0",
            "grid_template_areas": null,
            "object_position": null,
            "object_fit": null,
            "grid_auto_columns": null,
            "margin": null,
            "display": null,
            "left": null
          }
        },
        "39f68bc19d724910b58c3f27d1cdfdb4": {
          "model_module": "@jupyter-widgets/controls",
          "model_name": "DescriptionStyleModel",
          "state": {
            "_view_name": "StyleView",
            "_model_name": "DescriptionStyleModel",
            "description_width": "",
            "_view_module": "@jupyter-widgets/base",
            "_model_module_version": "1.5.0",
            "_view_count": null,
            "_view_module_version": "1.2.0",
            "_model_module": "@jupyter-widgets/controls"
          }
        },
        "299db2aefc3949749c9faaba90638878": {
          "model_module": "@jupyter-widgets/base",
          "model_name": "LayoutModel",
          "state": {
            "_view_name": "LayoutView",
            "grid_template_rows": null,
            "right": null,
            "justify_content": null,
            "_view_module": "@jupyter-widgets/base",
            "overflow": null,
            "_model_module_version": "1.2.0",
            "_view_count": null,
            "flex_flow": null,
            "width": null,
            "min_width": null,
            "border": null,
            "align_items": null,
            "bottom": null,
            "_model_module": "@jupyter-widgets/base",
            "top": null,
            "grid_column": null,
            "overflow_y": null,
            "overflow_x": null,
            "grid_auto_flow": null,
            "grid_area": null,
            "grid_template_columns": null,
            "flex": null,
            "_model_name": "LayoutModel",
            "justify_items": null,
            "grid_row": null,
            "max_height": null,
            "align_content": null,
            "visibility": null,
            "align_self": null,
            "height": null,
            "min_height": null,
            "padding": null,
            "grid_auto_rows": null,
            "grid_gap": null,
            "max_width": null,
            "order": null,
            "_view_module_version": "1.2.0",
            "grid_template_areas": null,
            "object_position": null,
            "object_fit": null,
            "grid_auto_columns": null,
            "margin": null,
            "display": null,
            "left": null
          }
        },
        "f99c6a223c004b25bd23190a77eebef9": {
          "model_module": "@jupyter-widgets/controls",
          "model_name": "HBoxModel",
          "state": {
            "_view_name": "HBoxView",
            "_dom_classes": [],
            "_model_name": "HBoxModel",
            "_view_module": "@jupyter-widgets/controls",
            "_model_module_version": "1.5.0",
            "_view_count": null,
            "_view_module_version": "1.5.0",
            "box_style": "",
            "layout": "IPY_MODEL_485f7244817d4630936857984763a0dc",
            "_model_module": "@jupyter-widgets/controls",
            "children": [
              "IPY_MODEL_9dd955dc17a84392ade8801df389b3dd",
              "IPY_MODEL_9fe6fdfa20ec493ca18556785424a359"
            ]
          }
        },
        "485f7244817d4630936857984763a0dc": {
          "model_module": "@jupyter-widgets/base",
          "model_name": "LayoutModel",
          "state": {
            "_view_name": "LayoutView",
            "grid_template_rows": null,
            "right": null,
            "justify_content": null,
            "_view_module": "@jupyter-widgets/base",
            "overflow": null,
            "_model_module_version": "1.2.0",
            "_view_count": null,
            "flex_flow": null,
            "width": null,
            "min_width": null,
            "border": null,
            "align_items": null,
            "bottom": null,
            "_model_module": "@jupyter-widgets/base",
            "top": null,
            "grid_column": null,
            "overflow_y": null,
            "overflow_x": null,
            "grid_auto_flow": null,
            "grid_area": null,
            "grid_template_columns": null,
            "flex": null,
            "_model_name": "LayoutModel",
            "justify_items": null,
            "grid_row": null,
            "max_height": null,
            "align_content": null,
            "visibility": null,
            "align_self": null,
            "height": null,
            "min_height": null,
            "padding": null,
            "grid_auto_rows": null,
            "grid_gap": null,
            "max_width": null,
            "order": null,
            "_view_module_version": "1.2.0",
            "grid_template_areas": null,
            "object_position": null,
            "object_fit": null,
            "grid_auto_columns": null,
            "margin": null,
            "display": null,
            "left": null
          }
        },
        "9dd955dc17a84392ade8801df389b3dd": {
          "model_module": "@jupyter-widgets/controls",
          "model_name": "FloatProgressModel",
          "state": {
            "_view_name": "ProgressView",
            "style": "IPY_MODEL_6f59c388f849492da411827bd394c68e",
            "_dom_classes": [],
            "description": "100%",
            "_model_name": "FloatProgressModel",
            "bar_style": "success",
            "max": 439,
            "_view_module": "@jupyter-widgets/controls",
            "_model_module_version": "1.5.0",
            "value": 439,
            "_view_count": null,
            "_view_module_version": "1.5.0",
            "orientation": "horizontal",
            "min": 0,
            "description_tooltip": null,
            "_model_module": "@jupyter-widgets/controls",
            "layout": "IPY_MODEL_668f19eeb12741ea96c0a5760731bbab"
          }
        },
        "9fe6fdfa20ec493ca18556785424a359": {
          "model_module": "@jupyter-widgets/controls",
          "model_name": "HTMLModel",
          "state": {
            "_view_name": "HTMLView",
            "style": "IPY_MODEL_b0d576b9f7454d8baaee48d4df4f09a6",
            "_dom_classes": [],
            "description": "",
            "_model_name": "HTMLModel",
            "placeholder": "​",
            "_view_module": "@jupyter-widgets/controls",
            "_model_module_version": "1.5.0",
            "value": " 439/439 [06:25&lt;00:00,  1.14it/s]",
            "_view_count": null,
            "_view_module_version": "1.5.0",
            "description_tooltip": null,
            "_model_module": "@jupyter-widgets/controls",
            "layout": "IPY_MODEL_8cca1370f60c42458812fcaa2ee600e2"
          }
        },
        "6f59c388f849492da411827bd394c68e": {
          "model_module": "@jupyter-widgets/controls",
          "model_name": "ProgressStyleModel",
          "state": {
            "_view_name": "StyleView",
            "_model_name": "ProgressStyleModel",
            "description_width": "initial",
            "_view_module": "@jupyter-widgets/base",
            "_model_module_version": "1.5.0",
            "_view_count": null,
            "_view_module_version": "1.2.0",
            "bar_color": null,
            "_model_module": "@jupyter-widgets/controls"
          }
        },
        "668f19eeb12741ea96c0a5760731bbab": {
          "model_module": "@jupyter-widgets/base",
          "model_name": "LayoutModel",
          "state": {
            "_view_name": "LayoutView",
            "grid_template_rows": null,
            "right": null,
            "justify_content": null,
            "_view_module": "@jupyter-widgets/base",
            "overflow": null,
            "_model_module_version": "1.2.0",
            "_view_count": null,
            "flex_flow": null,
            "width": null,
            "min_width": null,
            "border": null,
            "align_items": null,
            "bottom": null,
            "_model_module": "@jupyter-widgets/base",
            "top": null,
            "grid_column": null,
            "overflow_y": null,
            "overflow_x": null,
            "grid_auto_flow": null,
            "grid_area": null,
            "grid_template_columns": null,
            "flex": null,
            "_model_name": "LayoutModel",
            "justify_items": null,
            "grid_row": null,
            "max_height": null,
            "align_content": null,
            "visibility": null,
            "align_self": null,
            "height": null,
            "min_height": null,
            "padding": null,
            "grid_auto_rows": null,
            "grid_gap": null,
            "max_width": null,
            "order": null,
            "_view_module_version": "1.2.0",
            "grid_template_areas": null,
            "object_position": null,
            "object_fit": null,
            "grid_auto_columns": null,
            "margin": null,
            "display": null,
            "left": null
          }
        },
        "b0d576b9f7454d8baaee48d4df4f09a6": {
          "model_module": "@jupyter-widgets/controls",
          "model_name": "DescriptionStyleModel",
          "state": {
            "_view_name": "StyleView",
            "_model_name": "DescriptionStyleModel",
            "description_width": "",
            "_view_module": "@jupyter-widgets/base",
            "_model_module_version": "1.5.0",
            "_view_count": null,
            "_view_module_version": "1.2.0",
            "_model_module": "@jupyter-widgets/controls"
          }
        },
        "8cca1370f60c42458812fcaa2ee600e2": {
          "model_module": "@jupyter-widgets/base",
          "model_name": "LayoutModel",
          "state": {
            "_view_name": "LayoutView",
            "grid_template_rows": null,
            "right": null,
            "justify_content": null,
            "_view_module": "@jupyter-widgets/base",
            "overflow": null,
            "_model_module_version": "1.2.0",
            "_view_count": null,
            "flex_flow": null,
            "width": null,
            "min_width": null,
            "border": null,
            "align_items": null,
            "bottom": null,
            "_model_module": "@jupyter-widgets/base",
            "top": null,
            "grid_column": null,
            "overflow_y": null,
            "overflow_x": null,
            "grid_auto_flow": null,
            "grid_area": null,
            "grid_template_columns": null,
            "flex": null,
            "_model_name": "LayoutModel",
            "justify_items": null,
            "grid_row": null,
            "max_height": null,
            "align_content": null,
            "visibility": null,
            "align_self": null,
            "height": null,
            "min_height": null,
            "padding": null,
            "grid_auto_rows": null,
            "grid_gap": null,
            "max_width": null,
            "order": null,
            "_view_module_version": "1.2.0",
            "grid_template_areas": null,
            "object_position": null,
            "object_fit": null,
            "grid_auto_columns": null,
            "margin": null,
            "display": null,
            "left": null
          }
        },
        "7fb036c33c9e4716a2fbd050e66f9f64": {
          "model_module": "@jupyter-widgets/controls",
          "model_name": "HBoxModel",
          "state": {
            "_view_name": "HBoxView",
            "_dom_classes": [],
            "_model_name": "HBoxModel",
            "_view_module": "@jupyter-widgets/controls",
            "_model_module_version": "1.5.0",
            "_view_count": null,
            "_view_module_version": "1.5.0",
            "box_style": "",
            "layout": "IPY_MODEL_babdafa5a8f54e6aa84e2166ad4e7f90",
            "_model_module": "@jupyter-widgets/controls",
            "children": [
              "IPY_MODEL_fc82aae52f33440aa8dfeb4e89d5cc3c",
              "IPY_MODEL_fb293409c8664e6c9987156c443e4e74"
            ]
          }
        },
        "babdafa5a8f54e6aa84e2166ad4e7f90": {
          "model_module": "@jupyter-widgets/base",
          "model_name": "LayoutModel",
          "state": {
            "_view_name": "LayoutView",
            "grid_template_rows": null,
            "right": null,
            "justify_content": null,
            "_view_module": "@jupyter-widgets/base",
            "overflow": null,
            "_model_module_version": "1.2.0",
            "_view_count": null,
            "flex_flow": null,
            "width": null,
            "min_width": null,
            "border": null,
            "align_items": null,
            "bottom": null,
            "_model_module": "@jupyter-widgets/base",
            "top": null,
            "grid_column": null,
            "overflow_y": null,
            "overflow_x": null,
            "grid_auto_flow": null,
            "grid_area": null,
            "grid_template_columns": null,
            "flex": null,
            "_model_name": "LayoutModel",
            "justify_items": null,
            "grid_row": null,
            "max_height": null,
            "align_content": null,
            "visibility": null,
            "align_self": null,
            "height": null,
            "min_height": null,
            "padding": null,
            "grid_auto_rows": null,
            "grid_gap": null,
            "max_width": null,
            "order": null,
            "_view_module_version": "1.2.0",
            "grid_template_areas": null,
            "object_position": null,
            "object_fit": null,
            "grid_auto_columns": null,
            "margin": null,
            "display": null,
            "left": null
          }
        },
        "fc82aae52f33440aa8dfeb4e89d5cc3c": {
          "model_module": "@jupyter-widgets/controls",
          "model_name": "FloatProgressModel",
          "state": {
            "_view_name": "ProgressView",
            "style": "IPY_MODEL_79230af1b9ff43829b1e5bcafdd933c1",
            "_dom_classes": [],
            "description": "100%",
            "_model_name": "FloatProgressModel",
            "bar_style": "success",
            "max": 439,
            "_view_module": "@jupyter-widgets/controls",
            "_model_module_version": "1.5.0",
            "value": 439,
            "_view_count": null,
            "_view_module_version": "1.5.0",
            "orientation": "horizontal",
            "min": 0,
            "description_tooltip": null,
            "_model_module": "@jupyter-widgets/controls",
            "layout": "IPY_MODEL_e8800b5d8b9c43a18823ecccaeebdadb"
          }
        },
        "fb293409c8664e6c9987156c443e4e74": {
          "model_module": "@jupyter-widgets/controls",
          "model_name": "HTMLModel",
          "state": {
            "_view_name": "HTMLView",
            "style": "IPY_MODEL_78363bfe760c4d65b1ffbadacb07c136",
            "_dom_classes": [],
            "description": "",
            "_model_name": "HTMLModel",
            "placeholder": "​",
            "_view_module": "@jupyter-widgets/controls",
            "_model_module_version": "1.5.0",
            "value": " 439/439 [06:48&lt;00:00,  1.07it/s]",
            "_view_count": null,
            "_view_module_version": "1.5.0",
            "description_tooltip": null,
            "_model_module": "@jupyter-widgets/controls",
            "layout": "IPY_MODEL_4cb14028122f40c8ab09f6dbce571fdf"
          }
        },
        "79230af1b9ff43829b1e5bcafdd933c1": {
          "model_module": "@jupyter-widgets/controls",
          "model_name": "ProgressStyleModel",
          "state": {
            "_view_name": "StyleView",
            "_model_name": "ProgressStyleModel",
            "description_width": "initial",
            "_view_module": "@jupyter-widgets/base",
            "_model_module_version": "1.5.0",
            "_view_count": null,
            "_view_module_version": "1.2.0",
            "bar_color": null,
            "_model_module": "@jupyter-widgets/controls"
          }
        },
        "e8800b5d8b9c43a18823ecccaeebdadb": {
          "model_module": "@jupyter-widgets/base",
          "model_name": "LayoutModel",
          "state": {
            "_view_name": "LayoutView",
            "grid_template_rows": null,
            "right": null,
            "justify_content": null,
            "_view_module": "@jupyter-widgets/base",
            "overflow": null,
            "_model_module_version": "1.2.0",
            "_view_count": null,
            "flex_flow": null,
            "width": null,
            "min_width": null,
            "border": null,
            "align_items": null,
            "bottom": null,
            "_model_module": "@jupyter-widgets/base",
            "top": null,
            "grid_column": null,
            "overflow_y": null,
            "overflow_x": null,
            "grid_auto_flow": null,
            "grid_area": null,
            "grid_template_columns": null,
            "flex": null,
            "_model_name": "LayoutModel",
            "justify_items": null,
            "grid_row": null,
            "max_height": null,
            "align_content": null,
            "visibility": null,
            "align_self": null,
            "height": null,
            "min_height": null,
            "padding": null,
            "grid_auto_rows": null,
            "grid_gap": null,
            "max_width": null,
            "order": null,
            "_view_module_version": "1.2.0",
            "grid_template_areas": null,
            "object_position": null,
            "object_fit": null,
            "grid_auto_columns": null,
            "margin": null,
            "display": null,
            "left": null
          }
        },
        "78363bfe760c4d65b1ffbadacb07c136": {
          "model_module": "@jupyter-widgets/controls",
          "model_name": "DescriptionStyleModel",
          "state": {
            "_view_name": "StyleView",
            "_model_name": "DescriptionStyleModel",
            "description_width": "",
            "_view_module": "@jupyter-widgets/base",
            "_model_module_version": "1.5.0",
            "_view_count": null,
            "_view_module_version": "1.2.0",
            "_model_module": "@jupyter-widgets/controls"
          }
        },
        "4cb14028122f40c8ab09f6dbce571fdf": {
          "model_module": "@jupyter-widgets/base",
          "model_name": "LayoutModel",
          "state": {
            "_view_name": "LayoutView",
            "grid_template_rows": null,
            "right": null,
            "justify_content": null,
            "_view_module": "@jupyter-widgets/base",
            "overflow": null,
            "_model_module_version": "1.2.0",
            "_view_count": null,
            "flex_flow": null,
            "width": null,
            "min_width": null,
            "border": null,
            "align_items": null,
            "bottom": null,
            "_model_module": "@jupyter-widgets/base",
            "top": null,
            "grid_column": null,
            "overflow_y": null,
            "overflow_x": null,
            "grid_auto_flow": null,
            "grid_area": null,
            "grid_template_columns": null,
            "flex": null,
            "_model_name": "LayoutModel",
            "justify_items": null,
            "grid_row": null,
            "max_height": null,
            "align_content": null,
            "visibility": null,
            "align_self": null,
            "height": null,
            "min_height": null,
            "padding": null,
            "grid_auto_rows": null,
            "grid_gap": null,
            "max_width": null,
            "order": null,
            "_view_module_version": "1.2.0",
            "grid_template_areas": null,
            "object_position": null,
            "object_fit": null,
            "grid_auto_columns": null,
            "margin": null,
            "display": null,
            "left": null
          }
        }
      }
    }
  },
  "cells": [
    {
      "cell_type": "markdown",
      "metadata": {
        "id": "RCk6mRSOgrBI",
        "colab_type": "text"
      },
      "source": [
        "# Домашнее задание: дообучение нейросети\n",
        "\n"
      ]
    },
    {
      "cell_type": "markdown",
      "metadata": {
        "id": "AESJHXD8guUO",
        "colab_type": "text"
      },
      "source": [
        "Привет!\n",
        "\n",
        "В этом домашнем задании вам предстоит самим дообучить сеть на новом датасете для классификации.  \n",
        "\n",
        "В последнем практическом занятии этого модуля мы решали задачу классификации кошек и собак с помощью предобученной на ImageNet сети. На самом деле, это не совсем честно, потому что среди классов ImageNet наверняка есть классы \"кошка\" и \"собака\", и сеть, обученная на ImageNet и без дообучения может классифицировать кошек и собак. \n",
        "Поэтому в домашнем задании мы возьмем датасет фотографий Intel Image Classification (https://www.kaggle.com/puneet6060/intel-image-classification) природы. "
      ]
    },
    {
      "cell_type": "markdown",
      "metadata": {
        "id": "qmpbBWnLqDHB",
        "colab_type": "text"
      },
      "source": [
        "![alt text](https://miro.medium.com/max/640/1*Y1y83HN7oI98EJT3LQgv-g.png)"
      ]
    },
    {
      "cell_type": "markdown",
      "metadata": {
        "id": "yRbg6UplwE1P",
        "colab_type": "text"
      },
      "source": [
        "## 1. Загрузка датасета\n"
      ]
    },
    {
      "cell_type": "markdown",
      "metadata": {
        "id": "thYHVy64UeYp",
        "colab_type": "text"
      },
      "source": [
        "Для загрузки датасета из интернета воспользуемся командами bash. Bash -- язык командной строки linux. В ячейках jupyter notebook можно запускать команды bash, предварительно написав ! в начале ячейки."
      ]
    },
    {
      "cell_type": "code",
      "metadata": {
        "id": "BZ0EFJqKmS_R",
        "colab_type": "code",
        "colab": {
          "base_uri": "https://localhost:8080/",
          "height": 268
        },
        "outputId": "c6409204-e5f5-4505-ec32-4c096c067436"
      },
      "source": [
        "# команда wget скачивает файлы из интернета по ссылке\n",
        "! wget -c \"https://storage.googleapis.com/kaggle-data-sets/111880%2F269359%2Fbundle%2Farchive.zip?GoogleAccessId=gcp-kaggle-com@kaggle-161607.iam.gserviceaccount.com&Expires=1599859461&Signature=M3%2F%2FZh4ZO0UGqPgY88LNgkNJJ%2BpTtdVIHN9sB%2FuvNJBHQMFz5OhWJUwtuSDc%2Fr1Q%2FD%2F3gD2wUFBA8vgxpumu75Rh7EdViQzWJU3Iybet5%2FfFVhzg1onuCONRljsrXAZG%2BGxb%2B4rDdOP2eZ1OFCVNqVRNO0ASQhwjsQFLTW8sp9gvd8dcVCO0iNFOnZNJuiGRp0IU%2FI3BVf%2FA3zLe1ECHkwjG5%2Ba6Zo4lBRbhYsr5LxtlSH%2BDJcPTZkfWa3vqUCvjM99zK4ESPdNuC4X72nbONb1crKcWS%2BlJRfBNKUXECt1dFDU9SFTS0e1iI%2BPAFCzoG4WH4rwvsA0IsN%2BIGg5R9Q%3D%3D\" -O dataset.zip\n",
        "# команда unzip разархивирует zip-архив\n",
        "! unzip dataset.zip"
      ],
      "execution_count": null,
      "outputs": [
        {
          "output_type": "stream",
          "text": [
            "--2020-09-14 07:56:11--  https://storage.googleapis.com/kaggle-data-sets/111880%2F269359%2Fbundle%2Farchive.zip?GoogleAccessId=gcp-kaggle-com@kaggle-161607.iam.gserviceaccount.com&Expires=1599859461&Signature=M3%2F%2FZh4ZO0UGqPgY88LNgkNJJ%2BpTtdVIHN9sB%2FuvNJBHQMFz5OhWJUwtuSDc%2Fr1Q%2FD%2F3gD2wUFBA8vgxpumu75Rh7EdViQzWJU3Iybet5%2FfFVhzg1onuCONRljsrXAZG%2BGxb%2B4rDdOP2eZ1OFCVNqVRNO0ASQhwjsQFLTW8sp9gvd8dcVCO0iNFOnZNJuiGRp0IU%2FI3BVf%2FA3zLe1ECHkwjG5%2Ba6Zo4lBRbhYsr5LxtlSH%2BDJcPTZkfWa3vqUCvjM99zK4ESPdNuC4X72nbONb1crKcWS%2BlJRfBNKUXECt1dFDU9SFTS0e1iI%2BPAFCzoG4WH4rwvsA0IsN%2BIGg5R9Q%3D%3D\n",
            "Resolving storage.googleapis.com (storage.googleapis.com)... 108.177.126.128, 108.177.127.128, 172.217.218.128, ...\n",
            "Connecting to storage.googleapis.com (storage.googleapis.com)|108.177.126.128|:443... connected.\n",
            "HTTP request sent, awaiting response... 400 Bad Request\n",
            "2020-09-14 07:56:11 ERROR 400: Bad Request.\n",
            "\n",
            "Archive:  dataset.zip\n",
            "  End-of-central-directory signature not found.  Either this file is not\n",
            "  a zipfile, or it constitutes one disk of a multi-part archive.  In the\n",
            "  latter case the central directory and zipfile comment will be found on\n",
            "  the last disk(s) of this archive.\n",
            "unzip:  cannot find zipfile directory in one of dataset.zip or\n",
            "        dataset.zip.zip, and cannot find dataset.zip.ZIP, period.\n"
          ],
          "name": "stdout"
        }
      ]
    },
    {
      "cell_type": "markdown",
      "metadata": {
        "id": "npueDVYDbA9C",
        "colab_type": "text"
      },
      "source": [
        "ссылка перестала работать, поэтому был скачан архив с данными и локально загружен на диск"
      ]
    },
    {
      "cell_type": "code",
      "metadata": {
        "id": "g4dnSUurbAZj",
        "colab_type": "code",
        "colab": {
          "base_uri": "https://localhost:8080/",
          "height": 35
        },
        "outputId": "5cd0b8ea-f869-4797-bc87-f07837021797"
      },
      "source": [
        "from google.colab import drive\n",
        "drive.mount('/content/drive')"
      ],
      "execution_count": null,
      "outputs": [
        {
          "output_type": "stream",
          "text": [
            "Mounted at /content/drive\n"
          ],
          "name": "stdout"
        }
      ]
    },
    {
      "cell_type": "code",
      "metadata": {
        "id": "KaW-qhbRbMnP",
        "colab_type": "code",
        "colab": {
          "base_uri": "https://localhost:8080/",
          "height": 35
        },
        "outputId": "adf1bcc9-7ca0-44be-c016-b7b25a1a72b8"
      },
      "source": [
        "!rm -R /content/intel #сначала почистить папку на диске"
      ],
      "execution_count": null,
      "outputs": [
        {
          "output_type": "stream",
          "text": [
            "rm: cannot remove '/content/intel': No such file or directory\n"
          ],
          "name": "stdout"
        }
      ]
    },
    {
      "cell_type": "code",
      "metadata": {
        "id": "aXIp2qwHbOWJ",
        "colab_type": "code",
        "colab": {}
      },
      "source": [
        "# поставьте путь к файлу на своём диске\n",
        "!unzip -q \"/content/drive/My Drive/111880_269359_bundle_archive.zip\" -d /content/intel"
      ],
      "execution_count": null,
      "outputs": []
    },
    {
      "cell_type": "code",
      "metadata": {
        "id": "TCSNbTmRpWc_",
        "colab_type": "code",
        "colab": {
          "base_uri": "https://localhost:8080/",
          "height": 35
        },
        "outputId": "6acd8611-929a-4c8b-b746-95bebc5e3074"
      },
      "source": [
        "# команда ls выводит список файлов в текущей директории\n",
        "! ls"
      ],
      "execution_count": null,
      "outputs": [
        {
          "output_type": "stream",
          "text": [
            "dataset.zip  drive  intel  sample_data\n"
          ],
          "name": "stdout"
        }
      ]
    },
    {
      "cell_type": "code",
      "metadata": {
        "id": "qN46yQ3-pedX",
        "colab_type": "code",
        "colab": {
          "base_uri": "https://localhost:8080/",
          "height": 35
        },
        "outputId": "4d4b9da3-2bd1-4eb5-b51e-ea455983cd49"
      },
      "source": [
        "# команда ls ИМЯ_ПАПКИ выводит список файлов в указанной папке\n",
        "! ls intel/seg_train/seg_train"
      ],
      "execution_count": null,
      "outputs": [
        {
          "output_type": "stream",
          "text": [
            "buildings  forest  glacier  mountain  sea  street\n"
          ],
          "name": "stdout"
        }
      ]
    },
    {
      "cell_type": "code",
      "metadata": {
        "id": "jtgNLePHVJDy",
        "colab_type": "code",
        "colab": {
          "base_uri": "https://localhost:8080/",
          "height": 35
        },
        "outputId": "8dbfa3fb-797e-4b9f-ac4c-eea9ca18700b"
      },
      "source": [
        "! ls intel/seg_test/seg_test"
      ],
      "execution_count": null,
      "outputs": [
        {
          "output_type": "stream",
          "text": [
            "buildings  forest  glacier  mountain  sea  street\n"
          ],
          "name": "stdout"
        }
      ]
    },
    {
      "cell_type": "code",
      "metadata": {
        "id": "mPlNFxeSopNm",
        "colab_type": "code",
        "colab": {}
      },
      "source": [
        "import numpy as np\n",
        "from tqdm import tqdm_notebook\n",
        "import matplotlib.pyplot as plt\n",
        "%matplotlib inline\n",
        "\n",
        "# модули библиотеки PyTorch\n",
        "import torch\n",
        "from torchvision import datasets, transforms\n",
        "# метрика качества \n",
        "from sklearn.metrics import accuracy_score"
      ],
      "execution_count": null,
      "outputs": []
    },
    {
      "cell_type": "markdown",
      "metadata": {
        "id": "2yxCulXbqrZg",
        "colab_type": "text"
      },
      "source": [
        "## Задание 1 (0 баллов)"
      ]
    },
    {
      "cell_type": "markdown",
      "metadata": {
        "id": "0NLXumoxqvQG",
        "colab_type": "text"
      },
      "source": [
        "Как обычно, начнем с загрузки даатсета в пайторч с помощью ImageFolder.\n",
        "\n",
        "Для начала объявим трансформации.\n",
        "\n",
        "Объявите трансформации для тренировочного и тестового датасета: \n",
        "\n",
        "*   перевод картинки в тензор \n",
        "*   нормализация с mean=[0.485, 0.456, 0.406] и std=[0.229, 0.224, 0.225]\n",
        "\n",
        "\n",
        "Resize делать не надо! Все картинки этого датасета уже приведены к одному формату 150*150"
      ]
    },
    {
      "cell_type": "markdown",
      "metadata": {
        "id": "fsuUSbSzerYU",
        "colab_type": "text"
      },
      "source": [
        "**Прорешейпим картинки до размера 100х100, чтобы уменьшить затраты на вычисление**"
      ]
    },
    {
      "cell_type": "code",
      "metadata": {
        "id": "amd35avcp7nI",
        "colab_type": "code",
        "colab": {}
      },
      "source": [
        "transform_train = transforms.Compose([\n",
        "         transforms.Resize((100,100)),\n",
        "         transforms.ToTensor(),\n",
        "         transforms.Normalize(mean=[0.485,0.456,0.406],\n",
        "                              std=[0.229,0.224,0.255])\n",
        "])\n",
        "\n",
        "transform_val = transforms.Compose([\n",
        "         transforms.Resize((100,100)),\n",
        "         transforms.ToTensor(),\n",
        "         transforms.Normalize(mean=[0.485,0.456,0.406],\n",
        "                              std=[0.229,0.224,0.225])\n",
        "])"
      ],
      "execution_count": null,
      "outputs": []
    },
    {
      "cell_type": "markdown",
      "metadata": {
        "id": "5lWLYwvyrV3G",
        "colab_type": "text"
      },
      "source": [
        "И теперь объявим датасеты:"
      ]
    },
    {
      "cell_type": "code",
      "metadata": {
        "id": "FpZ8m6Ahz12m",
        "colab_type": "code",
        "colab": {}
      },
      "source": [
        "train_data = datasets.ImageFolder(\"/content/intel/seg_train/seg_train\", transform=transform_train)\n",
        "test_data = datasets.ImageFolder(\"/content/intel/seg_test/seg_test\", transform=transform_val)"
      ],
      "execution_count": null,
      "outputs": []
    },
    {
      "cell_type": "code",
      "metadata": {
        "id": "HJBx8nVmpcwT",
        "colab_type": "code",
        "colab": {
          "base_uri": "https://localhost:8080/",
          "height": 177
        },
        "outputId": "fd7158a5-78b6-4ea0-d63c-56a2da1e65ae"
      },
      "source": [
        "train_data #14034 - картинки"
      ],
      "execution_count": null,
      "outputs": [
        {
          "output_type": "execute_result",
          "data": {
            "text/plain": [
              "Dataset ImageFolder\n",
              "    Number of datapoints: 14034\n",
              "    Root location: /content/intel/seg_train/seg_train\n",
              "    StandardTransform\n",
              "Transform: Compose(\n",
              "               Resize(size=(100, 100), interpolation=PIL.Image.BILINEAR)\n",
              "               ToTensor()\n",
              "               Normalize(mean=[0.485, 0.456, 0.406], std=[0.229, 0.224, 0.255])\n",
              "           )"
            ]
          },
          "metadata": {
            "tags": []
          },
          "execution_count": 11
        }
      ]
    },
    {
      "cell_type": "code",
      "metadata": {
        "id": "F1vtz5vRGD3S",
        "colab_type": "code",
        "colab": {
          "base_uri": "https://localhost:8080/",
          "height": 177
        },
        "outputId": "1b9a9f64-45e6-4aa2-f574-19467b2cb692"
      },
      "source": [
        "test_data #3000 - картинок, также следует разделить на batch, чтобы проще было обучить сеть"
      ],
      "execution_count": null,
      "outputs": [
        {
          "output_type": "execute_result",
          "data": {
            "text/plain": [
              "Dataset ImageFolder\n",
              "    Number of datapoints: 3000\n",
              "    Root location: /content/intel/seg_test/seg_test\n",
              "    StandardTransform\n",
              "Transform: Compose(\n",
              "               Resize(size=(100, 100), interpolation=PIL.Image.BILINEAR)\n",
              "               ToTensor()\n",
              "               Normalize(mean=[0.485, 0.456, 0.406], std=[0.229, 0.224, 0.225])\n",
              "           )"
            ]
          },
          "metadata": {
            "tags": []
          },
          "execution_count": 12
        }
      ]
    },
    {
      "cell_type": "markdown",
      "metadata": {
        "id": "509LjGAmrc4T",
        "colab_type": "text"
      },
      "source": [
        "Объявите даталоадеры. Помните, что для тренировочного даталоадера важно перемешивать данные, для тестового -- неважно. Батч сайз возьмите проивзольный. Но не берите слишком маленький, будете долго ждать обучения сети."
      ]
    },
    {
      "cell_type": "markdown",
      "metadata": {
        "id": "HyySzQprbvGP",
        "colab_type": "text"
      },
      "source": [
        "Выберем размер батча равный 32"
      ]
    },
    {
      "cell_type": "code",
      "metadata": {
        "id": "JVodhaPv5TZj",
        "colab_type": "code",
        "colab": {}
      },
      "source": [
        "train_loader = torch.utils.data.DataLoader(train_data, batch_size = 32, shuffle = True)\n",
        "test_loader = torch.utils.data.DataLoader(test_data, batch_size=32,  shuffle = False)"
      ],
      "execution_count": null,
      "outputs": []
    },
    {
      "cell_type": "markdown",
      "metadata": {
        "id": "6gdhjhDZrsRy",
        "colab_type": "text"
      },
      "source": [
        "Отлично! Теперь давайте посмотрим на примеры картинок из датасета, и заодно проверим, что вы объявили даталоадеры верно."
      ]
    },
    {
      "cell_type": "code",
      "metadata": {
        "id": "KPpEqQVs5p8q",
        "colab_type": "code",
        "colab": {}
      },
      "source": [
        "dataiter = iter(train_loader)\n",
        "# батч картинок и батч ответов к картинкам\n",
        "images, labels = dataiter.next()"
      ],
      "execution_count": null,
      "outputs": []
    },
    {
      "cell_type": "code",
      "metadata": {
        "id": "PthxxQ655xCC",
        "colab_type": "code",
        "colab": {
          "base_uri": "https://localhost:8080/",
          "height": 35
        },
        "outputId": "35021f94-0681-4883-d2bf-3aaddbd7f529"
      },
      "source": [
        "images.shape, labels.shape \n",
        "# картинки - 32 картинки, 3 - цвет, 100х100 - размер"
      ],
      "execution_count": null,
      "outputs": [
        {
          "output_type": "execute_result",
          "data": {
            "text/plain": [
              "(torch.Size([32, 3, 100, 100]), torch.Size([32]))"
            ]
          },
          "metadata": {
            "tags": []
          },
          "execution_count": 15
        }
      ]
    },
    {
      "cell_type": "code",
      "metadata": {
        "id": "kiSYOg5M35S3",
        "colab_type": "code",
        "colab": {
          "base_uri": "https://localhost:8080/",
          "height": 336
        },
        "outputId": "3eb80c4f-4947-4582-c96b-4362f49d6086"
      },
      "source": [
        "def show_imgs(imgs, labels):\n",
        "    f, axes= plt.subplots(1, 10, figsize=(20,5))\n",
        "    for i, axis in enumerate(axes):\n",
        "      axes[i].imshow(np.squeeze(np.transpose(imgs[i].numpy(), (1, 2, 0))), cmap='gray')\n",
        "      axes[i].set_title(labels[i].numpy())\n",
        "    plt.show()\n",
        "\n",
        "show_imgs(images, labels)\n"
      ],
      "execution_count": null,
      "outputs": [
        {
          "output_type": "stream",
          "text": [
            "Clipping input data to the valid range for imshow with RGB data ([0..1] for floats or [0..255] for integers).\n",
            "Clipping input data to the valid range for imshow with RGB data ([0..1] for floats or [0..255] for integers).\n",
            "Clipping input data to the valid range for imshow with RGB data ([0..1] for floats or [0..255] for integers).\n",
            "Clipping input data to the valid range for imshow with RGB data ([0..1] for floats or [0..255] for integers).\n",
            "Clipping input data to the valid range for imshow with RGB data ([0..1] for floats or [0..255] for integers).\n",
            "Clipping input data to the valid range for imshow with RGB data ([0..1] for floats or [0..255] for integers).\n",
            "Clipping input data to the valid range for imshow with RGB data ([0..1] for floats or [0..255] for integers).\n",
            "Clipping input data to the valid range for imshow with RGB data ([0..1] for floats or [0..255] for integers).\n",
            "Clipping input data to the valid range for imshow with RGB data ([0..1] for floats or [0..255] for integers).\n",
            "Clipping input data to the valid range for imshow with RGB data ([0..1] for floats or [0..255] for integers).\n"
          ],
          "name": "stderr"
        },
        {
          "output_type": "display_data",
          "data": {
            "image/png": "[encoded data removed]",
            "text/plain": [
              "<Figure size 1440x360 with 10 Axes>"
            ]
          },
          "metadata": {
            "tags": [],
            "needs_background": "light"
          }
        }
      ]
    },
    {
      "cell_type": "markdown",
      "metadata": {
        "id": "UOWAkb6On3V6",
        "colab_type": "text"
      },
      "source": [
        "Импортируем нужные модули для обучения сети:"
      ]
    },
    {
      "cell_type": "code",
      "metadata": {
        "id": "kM9AM2p7OhNd",
        "colab_type": "code",
        "colab": {}
      },
      "source": [
        "# модуль, где определены слои для нейронных сетей\n",
        "import torch.nn as nn\n",
        "# модуль, где определены активайии для слоев нейронных сетей\n",
        "import torch.nn.functional as F"
      ],
      "execution_count": null,
      "outputs": []
    },
    {
      "cell_type": "markdown",
      "metadata": {
        "id": "quEVWS0Dw9G6",
        "colab_type": "text"
      },
      "source": [
        "## Задание 2. Обучение сети с нуля. (4 балла код + 1 балл вывод)"
      ]
    },
    {
      "cell_type": "markdown",
      "metadata": {
        "id": "4jOthZsEUmsI",
        "colab_type": "text"
      },
      "source": [
        "Построим сверточную нейронную сеть, обучим ее и посчитаем метрику accuracy на тестовой выборке.\n",
        "\n",
        "Так как в этом датасете картинки разрешения 150*150 -- больше, чем разрешение картинок из датасета с практического занятия -- то давайте построим сеть с тремя сверточными слоями и двумя макспуллингами."
      ]
    },
    {
      "cell_type": "markdown",
      "metadata": {
        "id": "uJLhZmiFgDIZ",
        "colab_type": "text"
      },
      "source": [
        "**в итоге картинки разрешения 100х100**"
      ]
    },
    {
      "cell_type": "code",
      "metadata": {
        "id": "2_fsjuQdUtmz",
        "colab_type": "code",
        "colab": {}
      },
      "source": [
        "# класс для удобного перевода картинки из двумерного объекта в вектор\n",
        "class Flatten(nn.Module):\n",
        "    def forward(self, input):\n",
        "        return input.view(input.size(0), -1)\n",
        "\n",
        "class ConvNet(nn.Module):\n",
        "    def __init__(self):\n",
        "        super().__init__()\n",
        "        # объявите слои: Conv-MaxPool-Conv-MaxPool-Conv. \n",
        "        # Первый conv слой с 5 ядрами, второй -- с 4, третий -- с 3.\n",
        "        # MaxPool оба с параметрами (2, 2)\n",
        "\n",
        "        self.conv1 = nn.Conv2d(3, 32, kernel_size=5)\n",
        "        self.mp1 = nn.MaxPool2d((2,2)) \n",
        "        # 48х48\n",
        "        self.conv2 = nn.Conv2d(32, 64, kernel_size=4)\n",
        "        self.mp2 = nn.MaxPool2d((2,2)) \n",
        "        # 22x22\n",
        "        self.conv3 = nn.Conv2d(64, 10, kernel_size=3)\n",
        "        # 20х20\n",
        "\n",
        "\n",
        "        # после этого объявите два полносвязных слоя: первый с 256 нейронами, \n",
        "        # второй -- с 6 (выходной слой, 6 -- количество классов в датасете)\n",
        "        # ВАЖНО! вам предстоит узнать, какое количество нейронов будет в первом \n",
        "        # полносвязном слое после растягивания карт активации в вектор (Linear(?, 256))\n",
        "        # проще всего это узнать, запустив обучение сети и посмотрев на текст ошибки:\n",
        "        # в нем будет указано, сколько нейронов ожидается в линейном слое.\n",
        "        # P.S. не забудтье Flatten!\n",
        "\n",
        "        self.flatten = Flatten() \n",
        "        # размер слоя 20х20х10\n",
        "        self.fc1 = nn.Linear(4000, 256)\n",
        "        self.fc2 = nn.Linear(256, 6)\n",
        "        # преобразуем в плоское пространство\n",
        "    \n",
        "    def forward(self, x):\n",
        "        # forward pass сети\n",
        "        # напишите forward pass сети, используйте relu \n",
        "        # в качестве промеждуточных активаций и softmax \n",
        "        # в качестве активации последнего слоя\n",
        "        x = F.relu(self.conv1(x))\n",
        "        x = self.mp1(x)\n",
        "        x = F.relu(self.conv2(x))\n",
        "        x = self.mp2(x)\n",
        "        x = F.relu(self.conv3(x))\n",
        "        x = self.flatten(x)\n",
        "        x = F.relu(self.fc1(x))\n",
        "        x = F.softmax(self.fc2(x))\n",
        "\n",
        "        return x"
      ],
      "execution_count": null,
      "outputs": []
    },
    {
      "cell_type": "markdown",
      "metadata": {
        "id": "FkafyUQ9On_q",
        "colab_type": "text"
      },
      "source": [
        "Тут, как обычно, функция обучения сети:"
      ]
    },
    {
      "cell_type": "code",
      "metadata": {
        "id": "MUXLCmBx0ut1",
        "colab_type": "code",
        "colab": {}
      },
      "source": [
        "def train(net, n_epoch):\n",
        "  # выбираем функцию потерь\n",
        "  loss_fn = torch.nn.CrossEntropyLoss()\n",
        "\n",
        "  # выбираем алгоритм оптимизации и learning_rate\n",
        "  learning_rate = 1e-3\n",
        "  optimizer = torch.optim.Adam(net.parameters(), lr=learning_rate)\n",
        "\n",
        "  # обучаем сеть 1 эпоха\n",
        "  for epoch in tqdm_notebook(range(n_epoch)):\n",
        "\n",
        "      running_loss = 0.0\n",
        "      train_dataiter = iter(train_loader)\n",
        "      for i, batch in enumerate(tqdm_notebook(train_dataiter)):\n",
        "          # так получаем текущий батч\n",
        "          X_batch, y_batch = batch\n",
        "          \n",
        "          # обнуляем веса\n",
        "          optimizer.zero_grad()\n",
        "\n",
        "          # forward pass (получение ответов на батч картинок)\n",
        "          y_pred = net(X_batch)\n",
        "          # вычисление лосса от выданных сетью ответов и правильных ответов на батч\n",
        "          loss = loss_fn(y_pred, y_batch)\n",
        "          # bsckpropagation (вычисление градиентов)\n",
        "          loss.backward()\n",
        "          # обновление весов сети\n",
        "          optimizer.step()\n",
        "\n",
        "          # выведем текущий loss\n",
        "          running_loss += loss.item()\n",
        "          # выведем качество каждые 500 батчей\n",
        "          if i % 10 == 9:\n",
        "              print('[%d, %5d] loss: %.3f, acc: %3f' %\n",
        "                    (epoch + 1, i + 1, running_loss / 500, accuracy_score(y_batch.numpy(), np.argmax(y_pred.detach().numpy(), axis=1))))\n",
        "              running_loss = 0.0\n",
        "\n",
        "  print('Обучение закончено')\n",
        "  return net"
      ],
      "execution_count": null,
      "outputs": []
    },
    {
      "cell_type": "markdown",
      "metadata": {
        "id": "Nz2WUQ4SgKD-",
        "colab_type": "text"
      },
      "source": [
        "**Будем обучать все сети на 3ех эпохах, чтобы не долго ждать вычисления**"
      ]
    },
    {
      "cell_type": "code",
      "metadata": {
        "id": "KSyG2GinN2fu",
        "colab_type": "code",
        "colab": {
          "base_uri": "https://localhost:8080/",
          "height": 1000,
          "referenced_widgets": [
            "b5c11333e1ce454cb1c211a9a1b3b870",
            "8e77f86245a548088799be5f44aa2fd2",
            "98a391d4eb924758a977867298ce8bfc",
            "955d998f6d5b4f9384d56115866a6d1c",
            "697a403ec5d44e78a21d5c268d1d6a88",
            "2194b07e4bd04a2e8b64bf8c096cce6a",
            "b7e61e877051400c80d68877d7426fe7",
            "e4064f4496384047b9ff73be7515fb90",
            "d256f94871174eff8b68b4b318d68a2f",
            "c66c8d1bbf194f5385b5f5d6b2e6e516",
            "01fcd8c85b144a0fb0b75378523c6eb8",
            "d1a127a98f4f4c169b91f7f8f23f6c66",
            "9bde32aa54e9422f98e63bf173936438",
            "e055ede6467d4908b14b8f453e94ed7c",
            "d0f35cfeee1c493d8cc6848c5477b468",
            "85ffd8fd9dc749699f8f60c68760473b",
            "26c61050d2dd4033a8abbe2f38b3e449",
            "3f3732ed374d4a15b6243051e2455ac2",
            "cb6b49a8a250417990f96780c288bac9",
            "884dc52048c1437eb9a63fce7f28c2c4",
            "6b2c0f33d6954679950ac1526e01ab38",
            "7eeec6f280e842e98522f3118b050def",
            "8b8063cb0fab470d93bda4eac402c002",
            "aafa87ff7b0c452c81958146ef48442e",
            "1b6df57c6a3f436a94b3bff6db0455b8",
            "498032bde9b34cc58f5c0bbb7ea1a906",
            "f5aa7b60669b48bcb1802699f6b57281",
            "9dbeddbdb9114b3cb000b38eaf83a673",
            "e47d4e75fc4540d5908a5bb4f61482d5",
            "38a3aa9fdd634fd3b3e1d2dc60417b81",
            "155450397bc441d2a59e9491d52c815d",
            "b91f46db0b8048d4af144189f598be7e"
          ]
        },
        "outputId": "276b4caf-483c-4305-d3be-f74472324e47"
      },
      "source": [
        "# объявляем сеть\n",
        "net = ConvNet()\n",
        "# теперь обучим сеть. Выберите нужное уоличество эпох для обучения. \n",
        "# Постарайтесь подобрать его так, чтобы сеть не переобучилась, но и не недообучилась.\n",
        "# можно поставить побольше эпох и остановить обучение, когда покажется нужным\n",
        "net = train(net,n_epoch=3)"
      ],
      "execution_count": null,
      "outputs": [
        {
          "output_type": "stream",
          "text": [
            "/usr/local/lib/python3.6/dist-packages/ipykernel_launcher.py:10: TqdmDeprecationWarning: This function will be removed in tqdm==5.0.0\n",
            "Please use `tqdm.notebook.tqdm` instead of `tqdm.tqdm_notebook`\n",
            "  # Remove the CWD from sys.path while we load stuff.\n"
          ],
          "name": "stderr"
        },
        {
          "output_type": "display_data",
          "data": {
            "application/vnd.jupyter.widget-view+json": {
              "model_id": "b5c11333e1ce454cb1c211a9a1b3b870",
              "version_minor": 0,
              "version_major": 2
            },
            "text/plain": [
              "HBox(children=(FloatProgress(value=0.0, max=3.0), HTML(value='')))"
            ]
          },
          "metadata": {
            "tags": []
          }
        },
        {
          "output_type": "stream",
          "text": [
            "/usr/local/lib/python3.6/dist-packages/ipykernel_launcher.py:14: TqdmDeprecationWarning: This function will be removed in tqdm==5.0.0\n",
            "Please use `tqdm.notebook.tqdm` instead of `tqdm.tqdm_notebook`\n",
            "  \n"
          ],
          "name": "stderr"
        },
        {
          "output_type": "display_data",
          "data": {
            "application/vnd.jupyter.widget-view+json": {
              "model_id": "d256f94871174eff8b68b4b318d68a2f",
              "version_minor": 0,
              "version_major": 2
            },
            "text/plain": [
              "HBox(children=(FloatProgress(value=0.0, max=439.0), HTML(value='')))"
            ]
          },
          "metadata": {
            "tags": []
          }
        },
        {
          "output_type": "stream",
          "text": [
            "/usr/local/lib/python3.6/dist-packages/ipykernel_launcher.py:49: UserWarning: Implicit dimension choice for softmax has been deprecated. Change the call to include dim=X as an argument.\n"
          ],
          "name": "stderr"
        },
        {
          "output_type": "stream",
          "text": [
            "[1,    10] loss: 0.035, acc: 0.156250\n",
            "[1,    20] loss: 0.032, acc: 0.437500\n",
            "[1,    30] loss: 0.034, acc: 0.375000\n",
            "[1,    40] loss: 0.034, acc: 0.437500\n",
            "[1,    50] loss: 0.033, acc: 0.437500\n",
            "[1,    60] loss: 0.032, acc: 0.500000\n",
            "[1,    70] loss: 0.031, acc: 0.531250\n",
            "[1,    80] loss: 0.031, acc: 0.343750\n",
            "[1,    90] loss: 0.031, acc: 0.562500\n",
            "[1,   100] loss: 0.031, acc: 0.468750\n",
            "[1,   110] loss: 0.031, acc: 0.562500\n",
            "[1,   120] loss: 0.031, acc: 0.468750\n",
            "[1,   130] loss: 0.031, acc: 0.468750\n",
            "[1,   140] loss: 0.030, acc: 0.562500\n",
            "[1,   150] loss: 0.031, acc: 0.406250\n",
            "[1,   160] loss: 0.030, acc: 0.562500\n",
            "[1,   170] loss: 0.030, acc: 0.437500\n",
            "[1,   180] loss: 0.030, acc: 0.625000\n",
            "[1,   190] loss: 0.032, acc: 0.343750\n",
            "[1,   200] loss: 0.031, acc: 0.437500\n",
            "[1,   210] loss: 0.030, acc: 0.656250\n",
            "[1,   220] loss: 0.030, acc: 0.375000\n",
            "[1,   230] loss: 0.031, acc: 0.531250\n",
            "[1,   240] loss: 0.031, acc: 0.500000\n",
            "[1,   250] loss: 0.032, acc: 0.468750\n",
            "[1,   260] loss: 0.030, acc: 0.593750\n",
            "[1,   270] loss: 0.031, acc: 0.531250\n",
            "[1,   280] loss: 0.031, acc: 0.468750\n",
            "[1,   290] loss: 0.030, acc: 0.593750\n",
            "[1,   300] loss: 0.033, acc: 0.250000\n",
            "[1,   310] loss: 0.032, acc: 0.531250\n",
            "[1,   320] loss: 0.031, acc: 0.687500\n",
            "[1,   330] loss: 0.031, acc: 0.375000\n",
            "[1,   340] loss: 0.031, acc: 0.468750\n",
            "[1,   350] loss: 0.031, acc: 0.562500\n",
            "[1,   360] loss: 0.030, acc: 0.500000\n",
            "[1,   370] loss: 0.030, acc: 0.531250\n",
            "[1,   380] loss: 0.031, acc: 0.468750\n",
            "[1,   390] loss: 0.032, acc: 0.468750\n",
            "[1,   400] loss: 0.033, acc: 0.281250\n",
            "[1,   410] loss: 0.036, acc: 0.218750\n",
            "[1,   420] loss: 0.037, acc: 0.156250\n",
            "[1,   430] loss: 0.036, acc: 0.218750\n",
            "\n"
          ],
          "name": "stdout"
        },
        {
          "output_type": "display_data",
          "data": {
            "application/vnd.jupyter.widget-view+json": {
              "model_id": "26c61050d2dd4033a8abbe2f38b3e449",
              "version_minor": 0,
              "version_major": 2
            },
            "text/plain": [
              "HBox(children=(FloatProgress(value=0.0, max=439.0), HTML(value='')))"
            ]
          },
          "metadata": {
            "tags": []
          }
        },
        {
          "output_type": "stream",
          "text": [
            "[2,    10] loss: 0.033, acc: 0.343750\n",
            "[2,    20] loss: 0.031, acc: 0.500000\n",
            "[2,    30] loss: 0.031, acc: 0.500000\n",
            "[2,    40] loss: 0.032, acc: 0.500000\n",
            "[2,    50] loss: 0.030, acc: 0.500000\n",
            "[2,    60] loss: 0.030, acc: 0.562500\n",
            "[2,    70] loss: 0.033, acc: 0.593750\n",
            "[2,    80] loss: 0.032, acc: 0.312500\n",
            "[2,    90] loss: 0.031, acc: 0.562500\n",
            "[2,   100] loss: 0.033, acc: 0.406250\n",
            "[2,   110] loss: 0.033, acc: 0.312500\n",
            "[2,   120] loss: 0.035, acc: 0.187500\n",
            "[2,   130] loss: 0.035, acc: 0.343750\n",
            "[2,   140] loss: 0.033, acc: 0.375000\n",
            "[2,   150] loss: 0.033, acc: 0.437500\n",
            "[2,   160] loss: 0.033, acc: 0.312500\n",
            "[2,   170] loss: 0.033, acc: 0.281250\n",
            "[2,   180] loss: 0.034, acc: 0.312500\n",
            "[2,   190] loss: 0.034, acc: 0.375000\n",
            "[2,   200] loss: 0.035, acc: 0.156250\n",
            "[2,   210] loss: 0.034, acc: 0.437500\n",
            "[2,   220] loss: 0.034, acc: 0.406250\n",
            "[2,   230] loss: 0.034, acc: 0.312500\n",
            "[2,   240] loss: 0.034, acc: 0.531250\n",
            "[2,   250] loss: 0.034, acc: 0.312500\n",
            "[2,   260] loss: 0.032, acc: 0.437500\n",
            "[2,   270] loss: 0.034, acc: 0.437500\n",
            "[2,   280] loss: 0.034, acc: 0.343750\n",
            "[2,   290] loss: 0.035, acc: 0.312500\n",
            "[2,   300] loss: 0.035, acc: 0.281250\n",
            "[2,   310] loss: 0.036, acc: 0.218750\n",
            "[2,   320] loss: 0.037, acc: 0.406250\n",
            "[2,   330] loss: 0.036, acc: 0.156250\n",
            "[2,   340] loss: 0.036, acc: 0.343750\n",
            "[2,   350] loss: 0.035, acc: 0.250000\n",
            "[2,   360] loss: 0.037, acc: 0.250000\n",
            "[2,   370] loss: 0.036, acc: 0.281250\n",
            "[2,   380] loss: 0.037, acc: 0.281250\n",
            "[2,   390] loss: 0.037, acc: 0.218750\n",
            "[2,   400] loss: 0.037, acc: 0.343750\n",
            "[2,   410] loss: 0.036, acc: 0.218750\n",
            "[2,   420] loss: 0.036, acc: 0.281250\n",
            "[2,   430] loss: 0.036, acc: 0.281250\n",
            "\n"
          ],
          "name": "stdout"
        },
        {
          "output_type": "display_data",
          "data": {
            "application/vnd.jupyter.widget-view+json": {
              "model_id": "1b6df57c6a3f436a94b3bff6db0455b8",
              "version_minor": 0,
              "version_major": 2
            },
            "text/plain": [
              "HBox(children=(FloatProgress(value=0.0, max=439.0), HTML(value='')))"
            ]
          },
          "metadata": {
            "tags": []
          }
        },
        {
          "output_type": "stream",
          "text": [
            "[3,    10] loss: 0.035, acc: 0.250000\n",
            "[3,    20] loss: 0.035, acc: 0.281250\n",
            "[3,    30] loss: 0.034, acc: 0.375000\n",
            "[3,    40] loss: 0.034, acc: 0.406250\n",
            "[3,    50] loss: 0.034, acc: 0.250000\n",
            "[3,    60] loss: 0.034, acc: 0.406250\n",
            "[3,    70] loss: 0.034, acc: 0.437500\n",
            "[3,    80] loss: 0.034, acc: 0.187500\n",
            "[3,    90] loss: 0.034, acc: 0.250000\n",
            "[3,   100] loss: 0.034, acc: 0.343750\n",
            "[3,   110] loss: 0.034, acc: 0.375000\n",
            "[3,   120] loss: 0.034, acc: 0.218750\n",
            "[3,   130] loss: 0.034, acc: 0.343750\n",
            "[3,   140] loss: 0.035, acc: 0.250000\n",
            "[3,   150] loss: 0.034, acc: 0.312500\n",
            "[3,   160] loss: 0.035, acc: 0.406250\n",
            "[3,   170] loss: 0.034, acc: 0.500000\n",
            "[3,   180] loss: 0.035, acc: 0.250000\n",
            "[3,   190] loss: 0.035, acc: 0.312500\n",
            "[3,   200] loss: 0.034, acc: 0.406250\n",
            "[3,   210] loss: 0.034, acc: 0.250000\n",
            "[3,   220] loss: 0.035, acc: 0.281250\n",
            "[3,   230] loss: 0.035, acc: 0.187500\n",
            "[3,   240] loss: 0.035, acc: 0.281250\n",
            "[3,   250] loss: 0.034, acc: 0.281250\n",
            "[3,   260] loss: 0.034, acc: 0.281250\n",
            "[3,   270] loss: 0.035, acc: 0.156250\n",
            "[3,   280] loss: 0.036, acc: 0.156250\n",
            "[3,   290] loss: 0.036, acc: 0.281250\n",
            "[3,   300] loss: 0.036, acc: 0.187500\n",
            "[3,   310] loss: 0.035, acc: 0.281250\n",
            "[3,   320] loss: 0.036, acc: 0.156250\n",
            "[3,   330] loss: 0.034, acc: 0.437500\n",
            "[3,   340] loss: 0.035, acc: 0.312500\n",
            "[3,   350] loss: 0.034, acc: 0.343750\n",
            "[3,   360] loss: 0.035, acc: 0.375000\n",
            "[3,   370] loss: 0.034, acc: 0.375000\n",
            "[3,   380] loss: 0.035, acc: 0.343750\n",
            "[3,   390] loss: 0.034, acc: 0.437500\n",
            "[3,   400] loss: 0.035, acc: 0.218750\n",
            "[3,   410] loss: 0.035, acc: 0.343750\n",
            "[3,   420] loss: 0.036, acc: 0.218750\n",
            "[3,   430] loss: 0.035, acc: 0.437500\n",
            "\n",
            "\n",
            "Обучение закончено\n"
          ],
          "name": "stdout"
        }
      ]
    },
    {
      "cell_type": "markdown",
      "metadata": {
        "id": "UVjGdi3KXYsb",
        "colab_type": "text"
      },
      "source": [
        "Посчитаем accuracy на test:"
      ]
    },
    {
      "cell_type": "code",
      "metadata": {
        "id": "-oi1sROrN3NH",
        "colab_type": "code",
        "colab": {}
      },
      "source": [
        "test_dataiter = iter(test_loader)\n",
        "images, labels = test_dataiter.next()"
      ],
      "execution_count": null,
      "outputs": []
    },
    {
      "cell_type": "code",
      "metadata": {
        "id": "UKf6zKGE0wVU",
        "colab_type": "code",
        "colab": {
          "base_uri": "https://localhost:8080/",
          "height": 72
        },
        "outputId": "81ff6cbf-1f5f-485d-a883-daa73ef7588c"
      },
      "source": [
        "accuracy_score(labels.numpy(), np.argmax(net.forward(images).detach().numpy(), axis=1))"
      ],
      "execution_count": null,
      "outputs": [
        {
          "output_type": "stream",
          "text": [
            "/usr/local/lib/python3.6/dist-packages/ipykernel_launcher.py:49: UserWarning: Implicit dimension choice for softmax has been deprecated. Change the call to include dim=X as an argument.\n"
          ],
          "name": "stderr"
        },
        {
          "output_type": "execute_result",
          "data": {
            "text/plain": [
              "0.28125"
            ]
          },
          "metadata": {
            "tags": []
          },
          "execution_count": 36
        }
      ]
    },
    {
      "cell_type": "markdown",
      "metadata": {
        "id": "W1mkYp5Ct6LL",
        "colab_type": "text"
      },
      "source": [
        "**Задание:** \n",
        "Вывод: \n",
        "\n",
        "Проанализирейте: переобучилась ли ваша сеть? Достаточно ли хорошо она предсказывает картинки на тесте?"
      ]
    },
    {
      "cell_type": "markdown",
      "metadata": {
        "id": "nx-zTZ1mpg5h",
        "colab_type": "text"
      },
      "source": [
        "**Получили точность на тестовом наборе 28% - данный результат показывает, что сеть плохо предсказывает картинки. Часто ошибается и не выполняет функцию классификатора**"
      ]
    },
    {
      "cell_type": "markdown",
      "metadata": {
        "id": "2neofUGsE2D0",
        "colab_type": "text"
      },
      "source": [
        "## Задание 3. Дообучение AlexNet (2+2 балла код + 1 балл вывод)"
      ]
    },
    {
      "cell_type": "markdown",
      "metadata": {
        "id": "n0drp6KjFI-9",
        "colab_type": "text"
      },
      "source": [
        "Теперь давайте попробуем дообучить сеть, предобученную на ImageNet, на нашем датасете.\n",
        "\n",
        "На практическом занятии мы дообучали Vgg16, теперь даватйе возьмем другую сеть -- AlexNet.\n",
        "\n",
        "Список сетей, предобученных на ImageNet, которые есть в библиотеке PyTorch: https://pytorch.org/docs/stable/torchvision/models.html"
      ]
    },
    {
      "cell_type": "code",
      "metadata": {
        "id": "_RpfGJt5Bran",
        "colab_type": "code",
        "colab": {}
      },
      "source": [
        "from torchvision import models\n",
        "AlexNet = models.alexnet(pretrained=True) #сеть с весами"
      ],
      "execution_count": null,
      "outputs": []
    },
    {
      "cell_type": "code",
      "metadata": {
        "id": "1qfS1lYLlq6t",
        "colab_type": "code",
        "colab": {
          "base_uri": "https://localhost:8080/",
          "height": 497
        },
        "outputId": "c4f92996-9e3e-4b48-866c-017077590d98"
      },
      "source": [
        "AlexNet.parameters"
      ],
      "execution_count": null,
      "outputs": [
        {
          "output_type": "execute_result",
          "data": {
            "text/plain": [
              "<bound method Module.parameters of AlexNet(\n",
              "  (features): Sequential(\n",
              "    (0): Conv2d(3, 64, kernel_size=(11, 11), stride=(4, 4), padding=(2, 2))\n",
              "    (1): ReLU(inplace=True)\n",
              "    (2): MaxPool2d(kernel_size=3, stride=2, padding=0, dilation=1, ceil_mode=False)\n",
              "    (3): Conv2d(64, 192, kernel_size=(5, 5), stride=(1, 1), padding=(2, 2))\n",
              "    (4): ReLU(inplace=True)\n",
              "    (5): MaxPool2d(kernel_size=3, stride=2, padding=0, dilation=1, ceil_mode=False)\n",
              "    (6): Conv2d(192, 384, kernel_size=(3, 3), stride=(1, 1), padding=(1, 1))\n",
              "    (7): ReLU(inplace=True)\n",
              "    (8): Conv2d(384, 256, kernel_size=(3, 3), stride=(1, 1), padding=(1, 1))\n",
              "    (9): ReLU(inplace=True)\n",
              "    (10): Conv2d(256, 256, kernel_size=(3, 3), stride=(1, 1), padding=(1, 1))\n",
              "    (11): ReLU(inplace=True)\n",
              "    (12): MaxPool2d(kernel_size=3, stride=2, padding=0, dilation=1, ceil_mode=False)\n",
              "  )\n",
              "  (avgpool): AdaptiveAvgPool2d(output_size=(6, 6))\n",
              "  (classifier): Sequential(\n",
              "    (0): Dropout(p=0.5, inplace=False)\n",
              "    (1): Linear(in_features=9216, out_features=4096, bias=True)\n",
              "    (2): ReLU(inplace=True)\n",
              "    (3): Dropout(p=0.5, inplace=False)\n",
              "    (4): Linear(in_features=4096, out_features=4096, bias=True)\n",
              "    (5): ReLU(inplace=True)\n",
              "    (6): Linear(in_features=4096, out_features=1000, bias=True)\n",
              "  )\n",
              ")>"
            ]
          },
          "metadata": {
            "tags": []
          },
          "execution_count": 34
        }
      ]
    },
    {
      "cell_type": "markdown",
      "metadata": {
        "id": "fnA84rkLvSnn",
        "colab_type": "text"
      },
      "source": [
        "**Задание 3.1:**\n",
        "\n",
        "Напишите класс New_AlexNet на основе AlexNet, у которой заменили последний слой. Заморозьте все слои, кроме слоев классификатора (всех линейных слоев)"
      ]
    },
    {
      "cell_type": "code",
      "metadata": {
        "id": "Rf8jZH1anK_-",
        "colab_type": "code",
        "colab": {}
      },
      "source": [
        "AlexNet.classifier[6] = nn.Linear(4096, 6)"
      ],
      "execution_count": null,
      "outputs": []
    },
    {
      "cell_type": "code",
      "metadata": {
        "id": "QRhVfbRWMj1H",
        "colab_type": "code",
        "colab": {
          "base_uri": "https://localhost:8080/",
          "height": 497
        },
        "outputId": "1684f054-6a70-476a-ba60-bc62787459b1"
      },
      "source": [
        "AlexNet.parameters"
      ],
      "execution_count": null,
      "outputs": [
        {
          "output_type": "execute_result",
          "data": {
            "text/plain": [
              "<bound method Module.parameters of AlexNet(\n",
              "  (features): Sequential(\n",
              "    (0): Conv2d(3, 64, kernel_size=(11, 11), stride=(4, 4), padding=(2, 2))\n",
              "    (1): ReLU(inplace=True)\n",
              "    (2): MaxPool2d(kernel_size=3, stride=2, padding=0, dilation=1, ceil_mode=False)\n",
              "    (3): Conv2d(64, 192, kernel_size=(5, 5), stride=(1, 1), padding=(2, 2))\n",
              "    (4): ReLU(inplace=True)\n",
              "    (5): MaxPool2d(kernel_size=3, stride=2, padding=0, dilation=1, ceil_mode=False)\n",
              "    (6): Conv2d(192, 384, kernel_size=(3, 3), stride=(1, 1), padding=(1, 1))\n",
              "    (7): ReLU(inplace=True)\n",
              "    (8): Conv2d(384, 256, kernel_size=(3, 3), stride=(1, 1), padding=(1, 1))\n",
              "    (9): ReLU(inplace=True)\n",
              "    (10): Conv2d(256, 256, kernel_size=(3, 3), stride=(1, 1), padding=(1, 1))\n",
              "    (11): ReLU(inplace=True)\n",
              "    (12): MaxPool2d(kernel_size=3, stride=2, padding=0, dilation=1, ceil_mode=False)\n",
              "  )\n",
              "  (avgpool): AdaptiveAvgPool2d(output_size=(6, 6))\n",
              "  (classifier): Sequential(\n",
              "    (0): Dropout(p=0.5, inplace=False)\n",
              "    (1): Linear(in_features=9216, out_features=4096, bias=True)\n",
              "    (2): ReLU(inplace=True)\n",
              "    (3): Dropout(p=0.5, inplace=False)\n",
              "    (4): Linear(in_features=4096, out_features=4096, bias=True)\n",
              "    (5): ReLU(inplace=True)\n",
              "    (6): Linear(in_features=4096, out_features=6, bias=True)\n",
              "  )\n",
              ")>"
            ]
          },
          "metadata": {
            "tags": []
          },
          "execution_count": 36
        }
      ]
    },
    {
      "cell_type": "code",
      "metadata": {
        "id": "hoIfyTOtnYbR",
        "colab_type": "code",
        "colab": {}
      },
      "source": [
        "class New_AlexNet(nn.Module):\n",
        "    def __init__(self):\n",
        "        super().__init__()\n",
        "        self.AlexNet = AlexNet\n",
        "        for param in self.AlexNet.features.parameters():\n",
        "          param.requires_grad = False\n",
        "        for param in self.AlexNet.classifier.parameters():\n",
        "          param.requires_grad = True\n",
        "    \n",
        "    def forward(self, x):\n",
        "        x = self.AlexNet(x)\n",
        "        return x"
      ],
      "execution_count": null,
      "outputs": []
    },
    {
      "cell_type": "code",
      "metadata": {
        "id": "xm09_jmAnp4q",
        "colab_type": "code",
        "colab": {
          "base_uri": "https://localhost:8080/",
          "height": 1000,
          "referenced_widgets": [
            "d1a2ab199744469188e12767a280c1c4",
            "2c213fa106474c118a43f266ff813aa9",
            "bae04c91df0241a8877492f6a9110892",
            "ea4dd2693b0b4bfa82eba1e1c9f56dd7",
            "428e4e4b5af746028e6a462137c30d9e",
            "7b7994ce059d46a89fdb1c8a3e2df7b3",
            "5e38f862684740e2b1653f041252c3bb",
            "ca2cd589a01249b38671bcd560cdd8bb",
            "a2c5b8d4d0e04c7b832809b1b6e510c2",
            "583427f685e443d2ae18915b8905987e",
            "24787603d24c41ae91ac0dc29756768b",
            "67533fba2afc4a5cbe8f78a772fdee7a",
            "6769e23da0174005abb64fa5886d4058",
            "9762016db1884c059ee9bac9ed0e59c8",
            "ce0b1a05458d42eb9978e1d255673614",
            "80bb13faee9b43d7b45c77ee83c446a0",
            "c88b607be8a6437fa2267b2b3a4e12b1",
            "cfe0e401597e46d4945c6fcd4180894f",
            "4457707f27c74b6bb689435abcf7d180",
            "7ce033f83408462ba5781ee9b6686a98",
            "66c52d91d2e848038fbd08089876b0a8",
            "f4de808b113f42169382c401043f6df0",
            "64ef4d1dc0484478a04265b6c088ce7b",
            "fb4a109c79284e779d607dde6ab4500f",
            "a28b48d0ea544c809f6944e1a7644e82",
            "ce6211bb52f346408ecc5b3370ae95e2",
            "30a14b4ccb3f4693920c813ef4bc5269",
            "e81ea47c907f4db98c8eeb9c04c5700f",
            "674b5eebe1a040b88e6c1cfbc967bc48",
            "e8311bbd61fc4ea4b2a020fa4ffa6d75",
            "d1cf3c8f4c9c4c1cafd0542953a7c64e",
            "b3209d0751674f4dbfc7423a554a84f0"
          ]
        },
        "outputId": "191a9595-7073-48d3-f9c1-d5f3d214b6ae"
      },
      "source": [
        "net = New_AlexNet()\n",
        "train(net, n_epoch=3)"
      ],
      "execution_count": null,
      "outputs": [
        {
          "output_type": "stream",
          "text": [
            "/usr/local/lib/python3.6/dist-packages/ipykernel_launcher.py:10: TqdmDeprecationWarning: This function will be removed in tqdm==5.0.0\n",
            "Please use `tqdm.notebook.tqdm` instead of `tqdm.tqdm_notebook`\n",
            "  # Remove the CWD from sys.path while we load stuff.\n"
          ],
          "name": "stderr"
        },
        {
          "output_type": "display_data",
          "data": {
            "application/vnd.jupyter.widget-view+json": {
              "model_id": "d1a2ab199744469188e12767a280c1c4",
              "version_minor": 0,
              "version_major": 2
            },
            "text/plain": [
              "HBox(children=(FloatProgress(value=0.0, max=3.0), HTML(value='')))"
            ]
          },
          "metadata": {
            "tags": []
          }
        },
        {
          "output_type": "stream",
          "text": [
            "/usr/local/lib/python3.6/dist-packages/ipykernel_launcher.py:14: TqdmDeprecationWarning: This function will be removed in tqdm==5.0.0\n",
            "Please use `tqdm.notebook.tqdm` instead of `tqdm.tqdm_notebook`\n",
            "  \n"
          ],
          "name": "stderr"
        },
        {
          "output_type": "display_data",
          "data": {
            "application/vnd.jupyter.widget-view+json": {
              "model_id": "a2c5b8d4d0e04c7b832809b1b6e510c2",
              "version_minor": 0,
              "version_major": 2
            },
            "text/plain": [
              "HBox(children=(FloatProgress(value=0.0, max=439.0), HTML(value='')))"
            ]
          },
          "metadata": {
            "tags": []
          }
        },
        {
          "output_type": "stream",
          "text": [
            "[1,    10] loss: 0.041, acc: 0.562500\n",
            "[1,    20] loss: 0.021, acc: 0.843750\n",
            "[1,    30] loss: 0.020, acc: 0.750000\n",
            "[1,    40] loss: 0.017, acc: 0.750000\n",
            "[1,    50] loss: 0.018, acc: 0.687500\n",
            "[1,    60] loss: 0.018, acc: 0.656250\n",
            "[1,    70] loss: 0.013, acc: 0.875000\n",
            "[1,    80] loss: 0.017, acc: 0.718750\n",
            "[1,    90] loss: 0.016, acc: 0.625000\n",
            "[1,   100] loss: 0.009, acc: 0.812500\n",
            "[1,   110] loss: 0.013, acc: 0.781250\n",
            "[1,   120] loss: 0.011, acc: 0.843750\n",
            "[1,   130] loss: 0.013, acc: 0.687500\n",
            "[1,   140] loss: 0.013, acc: 0.843750\n",
            "[1,   150] loss: 0.013, acc: 0.843750\n",
            "[1,   160] loss: 0.013, acc: 0.656250\n",
            "[1,   170] loss: 0.009, acc: 0.843750\n",
            "[1,   180] loss: 0.012, acc: 0.812500\n",
            "[1,   190] loss: 0.013, acc: 0.875000\n",
            "[1,   200] loss: 0.011, acc: 0.843750\n",
            "[1,   210] loss: 0.015, acc: 0.843750\n",
            "[1,   220] loss: 0.009, acc: 0.812500\n",
            "[1,   230] loss: 0.011, acc: 0.906250\n",
            "[1,   240] loss: 0.013, acc: 0.718750\n",
            "[1,   250] loss: 0.012, acc: 0.812500\n",
            "[1,   260] loss: 0.014, acc: 0.812500\n",
            "[1,   270] loss: 0.008, acc: 0.843750\n",
            "[1,   280] loss: 0.012, acc: 0.687500\n",
            "[1,   290] loss: 0.014, acc: 0.718750\n",
            "[1,   300] loss: 0.012, acc: 0.843750\n",
            "[1,   310] loss: 0.015, acc: 0.718750\n",
            "[1,   320] loss: 0.013, acc: 0.781250\n",
            "[1,   330] loss: 0.014, acc: 0.843750\n",
            "[1,   340] loss: 0.013, acc: 0.656250\n",
            "[1,   350] loss: 0.010, acc: 0.843750\n",
            "[1,   360] loss: 0.011, acc: 0.781250\n",
            "[1,   370] loss: 0.010, acc: 0.906250\n",
            "[1,   380] loss: 0.011, acc: 0.750000\n",
            "[1,   390] loss: 0.011, acc: 0.937500\n",
            "[1,   400] loss: 0.010, acc: 0.781250\n",
            "[1,   410] loss: 0.009, acc: 0.750000\n",
            "[1,   420] loss: 0.013, acc: 0.781250\n",
            "[1,   430] loss: 0.009, acc: 0.718750\n",
            "\n"
          ],
          "name": "stdout"
        },
        {
          "output_type": "display_data",
          "data": {
            "application/vnd.jupyter.widget-view+json": {
              "model_id": "c88b607be8a6437fa2267b2b3a4e12b1",
              "version_minor": 0,
              "version_major": 2
            },
            "text/plain": [
              "HBox(children=(FloatProgress(value=0.0, max=439.0), HTML(value='')))"
            ]
          },
          "metadata": {
            "tags": []
          }
        },
        {
          "output_type": "stream",
          "text": [
            "[2,    10] loss: 0.012, acc: 0.812500\n",
            "[2,    20] loss: 0.011, acc: 0.781250\n",
            "[2,    30] loss: 0.009, acc: 0.843750\n",
            "[2,    40] loss: 0.010, acc: 0.906250\n",
            "[2,    50] loss: 0.012, acc: 0.843750\n",
            "[2,    60] loss: 0.013, acc: 0.718750\n",
            "[2,    70] loss: 0.009, acc: 0.812500\n",
            "[2,    80] loss: 0.010, acc: 0.968750\n",
            "[2,    90] loss: 0.010, acc: 0.781250\n",
            "[2,   100] loss: 0.010, acc: 0.843750\n",
            "[2,   110] loss: 0.010, acc: 0.781250\n",
            "[2,   120] loss: 0.011, acc: 0.875000\n",
            "[2,   130] loss: 0.010, acc: 0.750000\n",
            "[2,   140] loss: 0.010, acc: 0.875000\n",
            "[2,   150] loss: 0.013, acc: 0.843750\n",
            "[2,   160] loss: 0.011, acc: 0.812500\n",
            "[2,   170] loss: 0.009, acc: 0.875000\n",
            "[2,   180] loss: 0.009, acc: 0.812500\n",
            "[2,   190] loss: 0.013, acc: 0.875000\n",
            "[2,   200] loss: 0.011, acc: 0.843750\n",
            "[2,   210] loss: 0.009, acc: 0.875000\n",
            "[2,   220] loss: 0.007, acc: 0.843750\n",
            "[2,   230] loss: 0.010, acc: 0.937500\n",
            "[2,   240] loss: 0.011, acc: 0.781250\n",
            "[2,   250] loss: 0.010, acc: 0.875000\n",
            "[2,   260] loss: 0.011, acc: 0.906250\n",
            "[2,   270] loss: 0.008, acc: 0.875000\n",
            "[2,   280] loss: 0.009, acc: 0.843750\n",
            "[2,   290] loss: 0.012, acc: 0.812500\n",
            "[2,   300] loss: 0.011, acc: 0.781250\n",
            "[2,   310] loss: 0.009, acc: 0.781250\n",
            "[2,   320] loss: 0.009, acc: 0.812500\n",
            "[2,   330] loss: 0.010, acc: 0.750000\n",
            "[2,   340] loss: 0.012, acc: 0.843750\n",
            "[2,   350] loss: 0.012, acc: 0.906250\n",
            "[2,   360] loss: 0.009, acc: 0.906250\n",
            "[2,   370] loss: 0.011, acc: 0.812500\n",
            "[2,   380] loss: 0.012, acc: 0.906250\n",
            "[2,   390] loss: 0.009, acc: 0.781250\n",
            "[2,   400] loss: 0.010, acc: 0.812500\n",
            "[2,   410] loss: 0.011, acc: 0.843750\n",
            "[2,   420] loss: 0.010, acc: 0.906250\n",
            "[2,   430] loss: 0.011, acc: 0.875000\n",
            "\n"
          ],
          "name": "stdout"
        },
        {
          "output_type": "display_data",
          "data": {
            "application/vnd.jupyter.widget-view+json": {
              "model_id": "a28b48d0ea544c809f6944e1a7644e82",
              "version_minor": 0,
              "version_major": 2
            },
            "text/plain": [
              "HBox(children=(FloatProgress(value=0.0, max=439.0), HTML(value='')))"
            ]
          },
          "metadata": {
            "tags": []
          }
        },
        {
          "output_type": "stream",
          "text": [
            "[3,    10] loss: 0.011, acc: 0.875000\n",
            "[3,    20] loss: 0.011, acc: 0.843750\n",
            "[3,    30] loss: 0.010, acc: 0.937500\n",
            "[3,    40] loss: 0.013, acc: 0.843750\n",
            "[3,    50] loss: 0.015, acc: 0.718750\n",
            "[3,    60] loss: 0.007, acc: 0.875000\n",
            "[3,    70] loss: 0.013, acc: 0.750000\n",
            "[3,    80] loss: 0.010, acc: 0.843750\n",
            "[3,    90] loss: 0.008, acc: 0.906250\n",
            "[3,   100] loss: 0.014, acc: 0.781250\n",
            "[3,   110] loss: 0.010, acc: 0.875000\n",
            "[3,   120] loss: 0.009, acc: 0.937500\n",
            "[3,   130] loss: 0.010, acc: 0.812500\n",
            "[3,   140] loss: 0.008, acc: 0.781250\n",
            "[3,   150] loss: 0.007, acc: 0.875000\n",
            "[3,   160] loss: 0.009, acc: 0.812500\n",
            "[3,   170] loss: 0.012, acc: 0.812500\n",
            "[3,   180] loss: 0.008, acc: 0.906250\n",
            "[3,   190] loss: 0.009, acc: 0.937500\n",
            "[3,   200] loss: 0.009, acc: 0.937500\n",
            "[3,   210] loss: 0.009, acc: 0.843750\n",
            "[3,   220] loss: 0.008, acc: 0.906250\n",
            "[3,   230] loss: 0.008, acc: 0.843750\n",
            "[3,   240] loss: 0.010, acc: 0.656250\n",
            "[3,   250] loss: 0.010, acc: 0.906250\n",
            "[3,   260] loss: 0.008, acc: 0.812500\n",
            "[3,   270] loss: 0.008, acc: 0.968750\n",
            "[3,   280] loss: 0.010, acc: 0.906250\n",
            "[3,   290] loss: 0.010, acc: 0.750000\n",
            "[3,   300] loss: 0.008, acc: 0.875000\n",
            "[3,   310] loss: 0.008, acc: 0.875000\n",
            "[3,   320] loss: 0.010, acc: 0.843750\n",
            "[3,   330] loss: 0.009, acc: 0.875000\n",
            "[3,   340] loss: 0.010, acc: 0.875000\n",
            "[3,   350] loss: 0.011, acc: 0.781250\n",
            "[3,   360] loss: 0.010, acc: 0.750000\n",
            "[3,   370] loss: 0.010, acc: 0.812500\n",
            "[3,   380] loss: 0.008, acc: 0.875000\n",
            "[3,   390] loss: 0.008, acc: 0.843750\n",
            "[3,   400] loss: 0.010, acc: 0.812500\n",
            "[3,   410] loss: 0.008, acc: 0.843750\n",
            "[3,   420] loss: 0.009, acc: 0.937500\n",
            "[3,   430] loss: 0.007, acc: 0.843750\n",
            "\n",
            "\n",
            "Обучение закончено\n"
          ],
          "name": "stdout"
        },
        {
          "output_type": "execute_result",
          "data": {
            "text/plain": [
              "New_AlexNet(\n",
              "  (AlexNet): AlexNet(\n",
              "    (features): Sequential(\n",
              "      (0): Conv2d(3, 64, kernel_size=(11, 11), stride=(4, 4), padding=(2, 2))\n",
              "      (1): ReLU(inplace=True)\n",
              "      (2): MaxPool2d(kernel_size=3, stride=2, padding=0, dilation=1, ceil_mode=False)\n",
              "      (3): Conv2d(64, 192, kernel_size=(5, 5), stride=(1, 1), padding=(2, 2))\n",
              "      (4): ReLU(inplace=True)\n",
              "      (5): MaxPool2d(kernel_size=3, stride=2, padding=0, dilation=1, ceil_mode=False)\n",
              "      (6): Conv2d(192, 384, kernel_size=(3, 3), stride=(1, 1), padding=(1, 1))\n",
              "      (7): ReLU(inplace=True)\n",
              "      (8): Conv2d(384, 256, kernel_size=(3, 3), stride=(1, 1), padding=(1, 1))\n",
              "      (9): ReLU(inplace=True)\n",
              "      (10): Conv2d(256, 256, kernel_size=(3, 3), stride=(1, 1), padding=(1, 1))\n",
              "      (11): ReLU(inplace=True)\n",
              "      (12): MaxPool2d(kernel_size=3, stride=2, padding=0, dilation=1, ceil_mode=False)\n",
              "    )\n",
              "    (avgpool): AdaptiveAvgPool2d(output_size=(6, 6))\n",
              "    (classifier): Sequential(\n",
              "      (0): Dropout(p=0.5, inplace=False)\n",
              "      (1): Linear(in_features=9216, out_features=4096, bias=True)\n",
              "      (2): ReLU(inplace=True)\n",
              "      (3): Dropout(p=0.5, inplace=False)\n",
              "      (4): Linear(in_features=4096, out_features=4096, bias=True)\n",
              "      (5): ReLU(inplace=True)\n",
              "      (6): Linear(in_features=4096, out_features=6, bias=True)\n",
              "    )\n",
              "  )\n",
              ")"
            ]
          },
          "metadata": {
            "tags": []
          },
          "execution_count": 38
        }
      ]
    },
    {
      "cell_type": "markdown",
      "metadata": {
        "id": "I-VRRDs9wbOS",
        "colab_type": "text"
      },
      "source": [
        "И посмотрим на скор на тесте:"
      ]
    },
    {
      "cell_type": "code",
      "metadata": {
        "id": "fO2m50VTx1mX",
        "colab_type": "code",
        "colab": {}
      },
      "source": [
        "test_dataiter = iter(test_loader)\n",
        "images, labels = test_dataiter.next()"
      ],
      "execution_count": null,
      "outputs": []
    },
    {
      "cell_type": "code",
      "metadata": {
        "id": "qqaOpXU3Bg0y",
        "colab_type": "code",
        "colab": {
          "base_uri": "https://localhost:8080/",
          "height": 35
        },
        "outputId": "f48f418a-f4e6-40ec-e7e9-58554525530f"
      },
      "source": [
        "accuracy_score(labels.numpy(), np.argmax(net.forward(images).detach().numpy(), axis=1))"
      ],
      "execution_count": null,
      "outputs": [
        {
          "output_type": "execute_result",
          "data": {
            "text/plain": [
              "0.84375"
            ]
          },
          "metadata": {
            "tags": []
          },
          "execution_count": 40
        }
      ]
    },
    {
      "cell_type": "markdown",
      "metadata": {
        "id": "d2zNCPA4kpy_",
        "colab_type": "text"
      },
      "source": [
        "**В данной сети разморожены слои классификатора, т.е. данные слои обучаемы - получили точность на тестовом наборе 87.5%.\n",
        "Сразу заметим, что данная точность гораздо выше, чем у сетки, которую мы делали первой. Действительно, если тонко настраивать предобученную сеть, то точность разпознавания выше**"
      ]
    },
    {
      "cell_type": "markdown",
      "metadata": {
        "id": "FIWFut_0wfgy",
        "colab_type": "text"
      },
      "source": [
        "**Задание 3.2:**\n",
        "\n",
        "Напишите класс New_AlexNet на основе AlexNet, у которой заменили последний слой(как в задании выше) Заморозьте все слои, кроме **двух последних** слоев классификатора"
      ]
    },
    {
      "cell_type": "code",
      "metadata": {
        "id": "1yjwUwBQyBfo",
        "colab_type": "code",
        "colab": {}
      },
      "source": [
        "class New_AlexNet_v2(nn.Module):\n",
        "    def __init__(self):\n",
        "        super().__init__()\n",
        "        self.AlexNet = AlexNet\n",
        "        for param in self.AlexNet.features.parameters():\n",
        "          param.required_grad = False\n",
        "        for param in self.AlexNet.classifier[:-2].parameters():\n",
        "          param.required_grad = False\n",
        "          \n",
        "    def forward(self, x):\n",
        "        x = self.AlexNet(x)\n",
        "        return x"
      ],
      "execution_count": null,
      "outputs": []
    },
    {
      "cell_type": "code",
      "metadata": {
        "id": "zFfLThSmr99a",
        "colab_type": "code",
        "colab": {}
      },
      "source": [
        "AlexNet.parameters[:-2]"
      ],
      "execution_count": null,
      "outputs": []
    },
    {
      "cell_type": "code",
      "metadata": {
        "id": "7_QcxLERnjeQ",
        "colab_type": "code",
        "colab": {
          "base_uri": "https://localhost:8080/",
          "height": 177
        },
        "outputId": "ea2f3a84-1436-47c9-ce26-ec67c80cae4d"
      },
      "source": [
        "AlexNet.classifier"
      ],
      "execution_count": null,
      "outputs": [
        {
          "output_type": "execute_result",
          "data": {
            "text/plain": [
              "Sequential(\n",
              "  (0): Dropout(p=0.5, inplace=False)\n",
              "  (1): Linear(in_features=9216, out_features=4096, bias=True)\n",
              "  (2): ReLU(inplace=True)\n",
              "  (3): Dropout(p=0.5, inplace=False)\n",
              "  (4): Linear(in_features=4096, out_features=4096, bias=True)\n",
              "  (5): ReLU(inplace=True)\n",
              "  (6): Linear(in_features=4096, out_features=6, bias=True)\n",
              ")"
            ]
          },
          "metadata": {
            "tags": []
          },
          "execution_count": 42
        }
      ]
    },
    {
      "cell_type": "code",
      "metadata": {
        "id": "FfJsH9Gqn1uG",
        "colab_type": "code",
        "colab": {
          "base_uri": "https://localhost:8080/",
          "height": 141
        },
        "outputId": "4689c15a-6021-4377-f8ae-8445cadef980"
      },
      "source": [
        "AlexNet.classifier[:-2]"
      ],
      "execution_count": null,
      "outputs": [
        {
          "output_type": "execute_result",
          "data": {
            "text/plain": [
              "Sequential(\n",
              "  (0): Dropout(p=0.5, inplace=False)\n",
              "  (1): Linear(in_features=9216, out_features=4096, bias=True)\n",
              "  (2): ReLU(inplace=True)\n",
              "  (3): Dropout(p=0.5, inplace=False)\n",
              "  (4): Linear(in_features=4096, out_features=4096, bias=True)\n",
              ")"
            ]
          },
          "metadata": {
            "tags": []
          },
          "execution_count": 43
        }
      ]
    },
    {
      "cell_type": "code",
      "metadata": {
        "id": "SFjr4yx7yFAx",
        "colab_type": "code",
        "colab": {
          "base_uri": "https://localhost:8080/",
          "height": 1000,
          "referenced_widgets": [
            "5cf76aaa02534dba9ec1c6d99945e716",
            "1ca4d8b54577489282a5022e7e4f67e9",
            "67397d563b654fb79498a7f92700e374",
            "5cb4c73be677473e949dd2912a51250f",
            "421d1971902d42aba2555afb6cea0ffd",
            "5d09ab015b4d44e5939751c9d657600a",
            "6015bc3ac8e74ef0b4bf69cc107a9d99",
            "71b86b51819845f49a0a61ce2114be2c",
            "b2dc9f22704c4b5fbed7ac71a496a6f6",
            "89eeff8af5de45aea4641a7a48ff3506",
            "800738b56413423fbf15f245dccd9220",
            "a32103f0eeb74beda823144766882141",
            "1dc28401108a42e3a2dd17f045fdf667",
            "0ed370a693e4407e825b80c3aa085335",
            "39f68bc19d724910b58c3f27d1cdfdb4",
            "299db2aefc3949749c9faaba90638878",
            "f99c6a223c004b25bd23190a77eebef9",
            "485f7244817d4630936857984763a0dc",
            "9dd955dc17a84392ade8801df389b3dd",
            "9fe6fdfa20ec493ca18556785424a359",
            "6f59c388f849492da411827bd394c68e",
            "668f19eeb12741ea96c0a5760731bbab",
            "b0d576b9f7454d8baaee48d4df4f09a6",
            "8cca1370f60c42458812fcaa2ee600e2",
            "7fb036c33c9e4716a2fbd050e66f9f64",
            "babdafa5a8f54e6aa84e2166ad4e7f90",
            "fc82aae52f33440aa8dfeb4e89d5cc3c",
            "fb293409c8664e6c9987156c443e4e74",
            "79230af1b9ff43829b1e5bcafdd933c1",
            "e8800b5d8b9c43a18823ecccaeebdadb",
            "78363bfe760c4d65b1ffbadacb07c136",
            "4cb14028122f40c8ab09f6dbce571fdf"
          ]
        },
        "outputId": "357bc099-7abf-48ba-a7a0-71bc2acb2c0f"
      },
      "source": [
        "net = New_AlexNet_v2()\n",
        "train(net, n_epoch=3)"
      ],
      "execution_count": null,
      "outputs": [
        {
          "output_type": "stream",
          "text": [
            "/usr/local/lib/python3.6/dist-packages/ipykernel_launcher.py:10: TqdmDeprecationWarning: This function will be removed in tqdm==5.0.0\n",
            "Please use `tqdm.notebook.tqdm` instead of `tqdm.tqdm_notebook`\n",
            "  # Remove the CWD from sys.path while we load stuff.\n"
          ],
          "name": "stderr"
        },
        {
          "output_type": "display_data",
          "data": {
            "application/vnd.jupyter.widget-view+json": {
              "model_id": "5cf76aaa02534dba9ec1c6d99945e716",
              "version_minor": 0,
              "version_major": 2
            },
            "text/plain": [
              "HBox(children=(FloatProgress(value=0.0, max=3.0), HTML(value='')))"
            ]
          },
          "metadata": {
            "tags": []
          }
        },
        {
          "output_type": "stream",
          "text": [
            "/usr/local/lib/python3.6/dist-packages/ipykernel_launcher.py:14: TqdmDeprecationWarning: This function will be removed in tqdm==5.0.0\n",
            "Please use `tqdm.notebook.tqdm` instead of `tqdm.tqdm_notebook`\n",
            "  \n"
          ],
          "name": "stderr"
        },
        {
          "output_type": "display_data",
          "data": {
            "application/vnd.jupyter.widget-view+json": {
              "model_id": "b2dc9f22704c4b5fbed7ac71a496a6f6",
              "version_minor": 0,
              "version_major": 2
            },
            "text/plain": [
              "HBox(children=(FloatProgress(value=0.0, max=439.0), HTML(value='')))"
            ]
          },
          "metadata": {
            "tags": []
          }
        },
        {
          "output_type": "stream",
          "text": [
            "[1,    10] loss: 0.010, acc: 0.875000\n",
            "[1,    20] loss: 0.011, acc: 0.781250\n",
            "[1,    30] loss: 0.012, acc: 0.750000\n",
            "[1,    40] loss: 0.008, acc: 0.843750\n",
            "[1,    50] loss: 0.009, acc: 0.937500\n",
            "[1,    60] loss: 0.010, acc: 0.812500\n",
            "[1,    70] loss: 0.009, acc: 0.906250\n",
            "[1,    80] loss: 0.010, acc: 0.875000\n",
            "[1,    90] loss: 0.014, acc: 0.875000\n",
            "[1,   100] loss: 0.012, acc: 0.843750\n",
            "[1,   110] loss: 0.009, acc: 0.750000\n",
            "[1,   120] loss: 0.011, acc: 0.781250\n",
            "[1,   130] loss: 0.015, acc: 0.937500\n",
            "[1,   140] loss: 0.012, acc: 0.843750\n",
            "[1,   150] loss: 0.009, acc: 0.843750\n",
            "[1,   160] loss: 0.012, acc: 0.812500\n",
            "[1,   170] loss: 0.011, acc: 0.906250\n",
            "[1,   180] loss: 0.010, acc: 0.906250\n",
            "[1,   190] loss: 0.013, acc: 0.781250\n",
            "[1,   200] loss: 0.009, acc: 0.937500\n",
            "[1,   210] loss: 0.010, acc: 0.750000\n",
            "[1,   220] loss: 0.013, acc: 0.656250\n",
            "[1,   230] loss: 0.015, acc: 0.843750\n",
            "[1,   240] loss: 0.011, acc: 0.937500\n",
            "[1,   250] loss: 0.011, acc: 0.812500\n",
            "[1,   260] loss: 0.008, acc: 0.875000\n",
            "[1,   270] loss: 0.009, acc: 0.875000\n",
            "[1,   280] loss: 0.009, acc: 0.843750\n",
            "[1,   290] loss: 0.010, acc: 0.875000\n",
            "[1,   300] loss: 0.008, acc: 0.968750\n",
            "[1,   310] loss: 0.014, acc: 0.843750\n",
            "[1,   320] loss: 0.009, acc: 0.937500\n",
            "[1,   330] loss: 0.008, acc: 0.718750\n",
            "[1,   340] loss: 0.009, acc: 0.781250\n",
            "[1,   350] loss: 0.009, acc: 0.906250\n",
            "[1,   360] loss: 0.008, acc: 0.875000\n",
            "[1,   370] loss: 0.010, acc: 0.843750\n",
            "[1,   380] loss: 0.007, acc: 0.906250\n",
            "[1,   390] loss: 0.009, acc: 0.937500\n",
            "[1,   400] loss: 0.010, acc: 0.875000\n",
            "[1,   410] loss: 0.011, acc: 0.906250\n",
            "[1,   420] loss: 0.011, acc: 0.875000\n",
            "[1,   430] loss: 0.009, acc: 0.906250\n",
            "\n"
          ],
          "name": "stdout"
        },
        {
          "output_type": "display_data",
          "data": {
            "application/vnd.jupyter.widget-view+json": {
              "model_id": "f99c6a223c004b25bd23190a77eebef9",
              "version_minor": 0,
              "version_major": 2
            },
            "text/plain": [
              "HBox(children=(FloatProgress(value=0.0, max=439.0), HTML(value='')))"
            ]
          },
          "metadata": {
            "tags": []
          }
        },
        {
          "output_type": "stream",
          "text": [
            "[2,    10] loss: 0.007, acc: 0.843750\n",
            "[2,    20] loss: 0.010, acc: 0.875000\n",
            "[2,    30] loss: 0.008, acc: 0.843750\n",
            "[2,    40] loss: 0.009, acc: 0.843750\n",
            "[2,    50] loss: 0.008, acc: 0.843750\n",
            "[2,    60] loss: 0.007, acc: 0.875000\n",
            "[2,    70] loss: 0.010, acc: 0.843750\n",
            "[2,    80] loss: 0.008, acc: 0.875000\n",
            "[2,    90] loss: 0.008, acc: 0.843750\n",
            "[2,   100] loss: 0.007, acc: 0.968750\n",
            "[2,   110] loss: 0.009, acc: 0.875000\n",
            "[2,   120] loss: 0.010, acc: 0.906250\n",
            "[2,   130] loss: 0.008, acc: 0.843750\n",
            "[2,   140] loss: 0.007, acc: 0.906250\n",
            "[2,   150] loss: 0.011, acc: 0.781250\n",
            "[2,   160] loss: 0.008, acc: 0.937500\n",
            "[2,   170] loss: 0.009, acc: 0.906250\n",
            "[2,   180] loss: 0.008, acc: 0.906250\n",
            "[2,   190] loss: 0.010, acc: 0.875000\n",
            "[2,   200] loss: 0.007, acc: 0.937500\n",
            "[2,   210] loss: 0.008, acc: 0.812500\n",
            "[2,   220] loss: 0.008, acc: 0.906250\n",
            "[2,   230] loss: 0.008, acc: 0.843750\n",
            "[2,   240] loss: 0.008, acc: 0.937500\n",
            "[2,   250] loss: 0.008, acc: 0.843750\n",
            "[2,   260] loss: 0.007, acc: 0.875000\n",
            "[2,   270] loss: 0.010, acc: 0.843750\n",
            "[2,   280] loss: 0.009, acc: 0.750000\n",
            "[2,   290] loss: 0.008, acc: 0.718750\n",
            "[2,   300] loss: 0.008, acc: 0.937500\n",
            "[2,   310] loss: 0.009, acc: 0.906250\n",
            "[2,   320] loss: 0.009, acc: 0.937500\n",
            "[2,   330] loss: 0.009, acc: 0.656250\n",
            "[2,   340] loss: 0.008, acc: 0.843750\n",
            "[2,   350] loss: 0.008, acc: 0.843750\n",
            "[2,   360] loss: 0.009, acc: 0.875000\n",
            "[2,   370] loss: 0.008, acc: 0.750000\n",
            "[2,   380] loss: 0.008, acc: 0.812500\n",
            "[2,   390] loss: 0.007, acc: 0.906250\n",
            "[2,   400] loss: 0.009, acc: 0.812500\n",
            "[2,   410] loss: 0.007, acc: 0.875000\n",
            "[2,   420] loss: 0.007, acc: 0.812500\n",
            "[2,   430] loss: 0.011, acc: 0.875000\n",
            "\n"
          ],
          "name": "stdout"
        },
        {
          "output_type": "display_data",
          "data": {
            "application/vnd.jupyter.widget-view+json": {
              "model_id": "7fb036c33c9e4716a2fbd050e66f9f64",
              "version_minor": 0,
              "version_major": 2
            },
            "text/plain": [
              "HBox(children=(FloatProgress(value=0.0, max=439.0), HTML(value='')))"
            ]
          },
          "metadata": {
            "tags": []
          }
        },
        {
          "output_type": "stream",
          "text": [
            "[3,    10] loss: 0.006, acc: 0.875000\n",
            "[3,    20] loss: 0.007, acc: 0.906250\n",
            "[3,    30] loss: 0.005, acc: 0.937500\n",
            "[3,    40] loss: 0.008, acc: 0.937500\n",
            "[3,    50] loss: 0.006, acc: 0.875000\n",
            "[3,    60] loss: 0.007, acc: 0.843750\n",
            "[3,    70] loss: 0.008, acc: 0.843750\n",
            "[3,    80] loss: 0.008, acc: 0.812500\n",
            "[3,    90] loss: 0.006, acc: 0.843750\n",
            "[3,   100] loss: 0.006, acc: 0.875000\n",
            "[3,   110] loss: 0.006, acc: 0.968750\n",
            "[3,   120] loss: 0.009, acc: 0.812500\n",
            "[3,   130] loss: 0.007, acc: 0.843750\n",
            "[3,   140] loss: 0.006, acc: 0.968750\n",
            "[3,   150] loss: 0.007, acc: 0.812500\n",
            "[3,   160] loss: 0.007, acc: 0.843750\n",
            "[3,   170] loss: 0.007, acc: 0.937500\n",
            "[3,   180] loss: 0.008, acc: 0.781250\n",
            "[3,   190] loss: 0.006, acc: 0.906250\n",
            "[3,   200] loss: 0.010, acc: 0.812500\n",
            "[3,   210] loss: 0.007, acc: 0.937500\n",
            "[3,   220] loss: 0.006, acc: 0.875000\n",
            "[3,   230] loss: 0.007, acc: 0.906250\n",
            "[3,   240] loss: 0.007, acc: 0.875000\n",
            "[3,   250] loss: 0.008, acc: 0.906250\n",
            "[3,   260] loss: 0.007, acc: 0.937500\n",
            "[3,   270] loss: 0.008, acc: 0.843750\n",
            "[3,   280] loss: 0.006, acc: 0.875000\n",
            "[3,   290] loss: 0.006, acc: 0.875000\n",
            "[3,   300] loss: 0.007, acc: 0.875000\n",
            "[3,   310] loss: 0.007, acc: 0.906250\n",
            "[3,   320] loss: 0.007, acc: 0.812500\n",
            "[3,   330] loss: 0.009, acc: 1.000000\n",
            "[3,   340] loss: 0.008, acc: 0.906250\n",
            "[3,   350] loss: 0.009, acc: 0.812500\n",
            "[3,   360] loss: 0.007, acc: 0.968750\n",
            "[3,   370] loss: 0.012, acc: 0.812500\n",
            "[3,   380] loss: 0.007, acc: 0.875000\n",
            "[3,   390] loss: 0.008, acc: 0.906250\n",
            "[3,   400] loss: 0.010, acc: 0.875000\n",
            "[3,   410] loss: 0.008, acc: 0.875000\n",
            "[3,   420] loss: 0.008, acc: 0.875000\n",
            "[3,   430] loss: 0.007, acc: 0.843750\n",
            "\n",
            "\n",
            "Обучение закончено\n"
          ],
          "name": "stdout"
        },
        {
          "output_type": "execute_result",
          "data": {
            "text/plain": [
              "New_AlexNet_v2(\n",
              "  (AlexNet): AlexNet(\n",
              "    (features): Sequential(\n",
              "      (0): Conv2d(3, 64, kernel_size=(11, 11), stride=(4, 4), padding=(2, 2))\n",
              "      (1): ReLU(inplace=True)\n",
              "      (2): MaxPool2d(kernel_size=3, stride=2, padding=0, dilation=1, ceil_mode=False)\n",
              "      (3): Conv2d(64, 192, kernel_size=(5, 5), stride=(1, 1), padding=(2, 2))\n",
              "      (4): ReLU(inplace=True)\n",
              "      (5): MaxPool2d(kernel_size=3, stride=2, padding=0, dilation=1, ceil_mode=False)\n",
              "      (6): Conv2d(192, 384, kernel_size=(3, 3), stride=(1, 1), padding=(1, 1))\n",
              "      (7): ReLU(inplace=True)\n",
              "      (8): Conv2d(384, 256, kernel_size=(3, 3), stride=(1, 1), padding=(1, 1))\n",
              "      (9): ReLU(inplace=True)\n",
              "      (10): Conv2d(256, 256, kernel_size=(3, 3), stride=(1, 1), padding=(1, 1))\n",
              "      (11): ReLU(inplace=True)\n",
              "      (12): MaxPool2d(kernel_size=3, stride=2, padding=0, dilation=1, ceil_mode=False)\n",
              "    )\n",
              "    (avgpool): AdaptiveAvgPool2d(output_size=(6, 6))\n",
              "    (classifier): Sequential(\n",
              "      (0): Dropout(p=0.5, inplace=False)\n",
              "      (1): Linear(in_features=9216, out_features=4096, bias=True)\n",
              "      (2): ReLU(inplace=True)\n",
              "      (3): Dropout(p=0.5, inplace=False)\n",
              "      (4): Linear(in_features=4096, out_features=4096, bias=True)\n",
              "      (5): ReLU(inplace=True)\n",
              "      (6): Linear(in_features=4096, out_features=6, bias=True)\n",
              "    )\n",
              "  )\n",
              ")"
            ]
          },
          "metadata": {
            "tags": []
          },
          "execution_count": 44
        }
      ]
    },
    {
      "cell_type": "markdown",
      "metadata": {
        "id": "AZaGjQMtwr82",
        "colab_type": "text"
      },
      "source": [
        "И посмотрим на скор на тесте:"
      ]
    },
    {
      "cell_type": "code",
      "metadata": {
        "id": "SPoZc80NIiHR",
        "colab_type": "code",
        "colab": {}
      },
      "source": [
        "test_dataiter = iter(test_loader)\n",
        "images, labels = test_dataiter.next()"
      ],
      "execution_count": null,
      "outputs": []
    },
    {
      "cell_type": "code",
      "metadata": {
        "id": "fFt6GSuPIn1M",
        "colab_type": "code",
        "colab": {
          "base_uri": "https://localhost:8080/",
          "height": 35
        },
        "outputId": "69487336-5f61-4a92-8c7a-12300d5b0c46"
      },
      "source": [
        "accuracy_score(labels.numpy(), np.argmax(net.forward(images).detach().numpy(), axis=1))"
      ],
      "execution_count": null,
      "outputs": [
        {
          "output_type": "execute_result",
          "data": {
            "text/plain": [
              "0.84375"
            ]
          },
          "metadata": {
            "tags": []
          },
          "execution_count": 46
        }
      ]
    },
    {
      "cell_type": "markdown",
      "metadata": {
        "id": "RtmRyp_ewsuW",
        "colab_type": "text"
      },
      "source": [
        "**Задание 3.3:** Вывод:\n",
        "\n",
        "Какие результаты у вас получились? Классифицирует ли картинки природы лучше сеть, предобученная на ImageNet, или ваша сеть из задания два получилась лучше? \n",
        "Есть ли разница между дообучением двух последних слоев сети или всех линейных слоев сети?"
      ]
    },
    {
      "cell_type": "markdown",
      "metadata": {
        "id": "MV1Bf06QxL8p",
        "colab_type": "text"
      },
      "source": [
        " **В данной сети заморожены все слои кроме последних двух слоев классификатора.\n",
        " Точность на тестовом наборе - 81.25%. Данная точность ниже, чем у предыдущей сети, где мы размораживали весь классификатор сети AlexNet. Можно сделать вывод, что если обучать весь класс классификатора, то точность выше, т.к. сеть выделяет нужные признаки для используемого датасета. В случае же когда размораживаем только два последний слоя, сеть выделяет признаки на которых она уже была обучена, но возможно, не видит нужных признаков для используемого датасета или просто выкидывает их, отсюда и точность на тестовом наборе ниже**"
      ]
    }
  ]
}